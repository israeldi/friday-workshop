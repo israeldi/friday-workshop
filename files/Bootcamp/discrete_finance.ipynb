{
 "cells": [
  {
   "cell_type": "markdown",
   "metadata": {},
   "source": [
    "<img src=\"https://raw.githubusercontent.com/israeldi/quantlab/master/assets/images/Program-Logo.png\" width=\"400px\" align=\"right\">\n",
    "\n",
    "# Binomial Pricing Model\n",
    "### [(Go to Quant Lab)](https://israeldi.github.io/quantlab/)\n",
    "\n",
    "#### Source: Numerical Methods in Finance with C++\n",
    "\n",
    "&copy; Maciej J. Capinski, Tomasz Zastawniak\n",
    "\n",
    "<img src=\"https://raw.githubusercontent.com/israeldi/quantlab/master/assets/images/Numerical_Methods.jpg\" width=\"200px\" align=\"left\">"
   ]
  },
  {
   "cell_type": "markdown",
   "metadata": {},
   "source": [
    "## Table of Contents\n",
    "\n",
    "1. [Random Numbers](#1.-Random-Numbers)\n",
    "2. [Plotting Random Samples](#2.-Plotting-Random-Samples)\n",
    "3. [Simulation](#3.-Simulation)\n",
    "    - 3.1 [Random Variables](#3.1-Random-Variables)\n",
    "    - 3.2 [Stochastic Processes](#3.2-Stochastic-Processes)\n",
    "        - 3.2.1 [Geometric Brownian Motion](#3.2.1-Geometric-Brownian-Motion)\n",
    "        - 3.2.2 [Square-Root Diffusion](#3.2.2-Square-Root-Diffusion)\n",
    "        - 3.2.3 [Stochastic Processes](#3.2-Stochastic-Processes)\n",
    "        - 3.2.4 [Stochastic Processes](#3.2-Stochastic-Processes)\n",
    "    - 3.3 [Variance Reduction](#3.3-Variance-Reduction)\n",
    "4. [Valuation](#4.-Valuation)\n",
    "    - 4.1 [European Options](#4.1-European-Options)\n",
    "    - 4.2 [American Options](#4.2-American-Options)\n",
    "5. [Risk Measures](#5.-Risk-Measures)\n",
    "    - 5.1 [Value-at-Risk](#5.1-Value-at-Risk)\n",
    "    - 5.2 [Credit Value Adjustments](#5.2-Credit-Value-Adjustments)\n"
   ]
  },
  {
   "cell_type": "markdown",
   "metadata": {},
   "source": [
    "Initially import all the modules we will be using for our notebook"
   ]
  },
  {
   "cell_type": "code",
   "execution_count": 11,
   "metadata": {},
   "outputs": [],
   "source": [
    "import math\n",
    "import numpy as np\n",
    "import numpy.random as npr  \n",
    "from pylab import plt, mpl\n",
    "import sys\n",
    "import os"
   ]
  },
  {
   "cell_type": "markdown",
   "metadata": {},
   "source": [
    "## 1.1 Creating Main Program"
   ]
  },
  {
   "cell_type": "code",
   "execution_count": 14,
   "metadata": {},
   "outputs": [
    {
     "name": "stdout",
     "output_type": "stream",
     "text": [
      "Hi there\n",
      "Provide a character: 1\n"
     ]
    }
   ],
   "source": [
    "if __name__== \"__main__\":\n",
    "    print(\"Hi there\")\n",
    "    input(\"Provide a character: \")"
   ]
  },
  {
   "cell_type": "code",
   "execution_count": 15,
   "metadata": {},
   "outputs": [],
   "source": [
    "# Directory where we will save our plots\n",
    "directory = \"./images\"\n",
    "if not os.path.exists(directory):\n",
    "    os.makedirs(directory)"
   ]
  },
  {
   "cell_type": "markdown",
   "metadata": {},
   "source": [
    "## 1.2 Entering Data\n",
    "#### ([Back to Top](#Table-of-Contents))"
   ]
  },
  {
   "cell_type": "code",
   "execution_count": 17,
   "metadata": {},
   "outputs": [
    {
     "name": "stdout",
     "output_type": "stream",
     "text": [
      "Enter S_0: 1\n",
      "Enter U: 2\n",
      "Enter D: -0.5\n",
      "Enter R: 0\n",
      "Input data checked\n",
      "There is no arbitrage\n",
      "\n",
      "q =  0.2\n",
      "n =  3\n",
      "i =  2\n",
      "S(n,i) =  4.5\n"
     ]
    }
   ],
   "source": [
    "if __name__== \"__main__\":\n",
    "    S0 = float(input(\"Enter S_0: \"))\n",
    "    U = float(input(\"Enter U: \"))\n",
    "    D = float(input(\"Enter D: \"))\n",
    "    R = float(input(\"Enter R: \"))\n",
    "\n",
    "    # making sure that 0<S0, -1<D<U, -1<R\n",
    "    if (S0 <= 0.0 or U <= -1.0 or D <= -1.0 or U <= D or R <= -1.0):\n",
    "        print(\"Illegal data ranges\")\n",
    "        print(\"Terminating program\")\n",
    "        sys.exit()\n",
    "    \n",
    "    # checking for arbitrage\n",
    "    if (R >= U or R <= D):\n",
    "        print(\"Arbitrage exists\")\n",
    "        print(\"Terminating program\")\n",
    "        sys.exit()\n",
    "\n",
    "    print(\"Input data checked\")\n",
    "    print(\"There is no arbitrage\\n\")\n",
    "    \n",
    "    # compute risk-neutral probability\n",
    "    print(\"q = \", (R - D) / (U - D))\n",
    "    \n",
    "    # compute stock price at node n=3,i=2\n",
    "    n = 3; i = 2\n",
    "    print(\"n = \", n)\n",
    "    print(\"i = \", i)\n",
    "    print(\"S(n,i) = \", S0* math.pow(1 + U,i) * math.pow(1 + D, n - i))"
   ]
  },
  {
   "cell_type": "markdown",
   "metadata": {},
   "source": [
    "## 1.3 Functions\n",
    "#### ([Back to Top](#Table-of-Contents))"
   ]
  },
  {
   "cell_type": "code",
   "execution_count": 82,
   "metadata": {
    "uuid": "4618b170-6bd3-4500-905a-0fe402f198c1"
   },
   "outputs": [
    {
     "name": "stdout",
     "output_type": "stream",
     "text": [
      "q =  0.13043478260869565\n",
      "Enter S0: 3\n",
      "Enter U: 2\n",
      "Enter D: -0.2\n",
      "Enter R: 0\n",
      "Input data checked\n",
      "There is no arbitrage\n",
      "\n",
      "n =  3\n",
      "i =  2\n",
      "S(n,i) =  21.6\n"
     ]
    }
   ],
   "source": [
    "# computing risk-neutral probability\n",
    "def RiskNeutProb(U, D, R):\n",
    "    return (R - D) / (U - D)\n",
    "\n",
    "# computing the stock price at node n,i\n",
    "def S(S0, U, D, n, i):\n",
    "    return S0 * math.pow(1 + U,i) * math.pow(1 + D, n - i)\n",
    "\n",
    "def isValidInput(S0, U, D, R):\n",
    "    # making sure that 0<S0, -1<D<U, -1<R\n",
    "    if (S0 <= 0.0 or U <= -1.0 or D <= -1.0 or U <= D or R <= -1.0):\n",
    "        print(\"Illegal data ranges\")\n",
    "        print(\"Terminating program\")\n",
    "        return 0\n",
    "    \n",
    "    # checking for arbitrage\n",
    "    if (R >= U or R <= D):\n",
    "        print(\"Arbitrage exists\")\n",
    "        print(\"Terminating program\")\n",
    "        return 0\n",
    "    \n",
    "    return 1\n",
    "\n",
    "# inputting, displaying and checking model data\n",
    "def GetInputData():\n",
    "    #entering data\n",
    "    params = (\"S0\", \"U\", \"D\", \"R\")\n",
    "    S0, U, D, R = [float(input(\"Enter %s: \" % (var))) for var in params]\n",
    "    \n",
    "    if not isValidInput(S0, U, D, R):\n",
    "        return 0\n",
    "    \n",
    "    print(\"Input data checked\")\n",
    "    print(\"There is no arbitrage\\n\")\n",
    "    d = locals().copy()\n",
    "    return d\n",
    "\n",
    "\n",
    "if __name__== \"__main__\":\n",
    "    # compute risk-neutral probability\n",
    "    print(\"q = \", RiskNeutProb(U, D, R))\n",
    "    \n",
    "    output = GetInputData()\n",
    "    if output == 0:\n",
    "        sys.exit()\n",
    "    \n",
    "    # Update our parameters\n",
    "    locals().update(output)\n",
    "    \n",
    "    # compute stock price at node n=3,i=2\n",
    "    n = 3; i = 2\n",
    "    print(\"n = \", n)\n",
    "    print(\"i = \", i)\n",
    "    print(\"S(n,i) = \", S(S0,U,D,n,i))\n"
   ]
  },
  {
   "cell_type": "code",
   "execution_count": null,
   "metadata": {},
   "outputs": [],
   "source": []
  },
  {
   "cell_type": "code",
   "execution_count": 69,
   "metadata": {},
   "outputs": [
    {
     "name": "stdout",
     "output_type": "stream",
     "text": [
      "S0 1.0\n",
      "U 2.0\n",
      "D 3.0\n",
      "R 4.0\n"
     ]
    }
   ],
   "source": [
    "output"
   ]
  },
  {
   "cell_type": "code",
   "execution_count": 74,
   "metadata": {},
   "outputs": [
    {
     "name": "stdout",
     "output_type": "stream",
     "text": [
      "Enter S0: 2\n",
      "Enter U: 4\n",
      "Enter D: -0.3\n",
      "Enter R: 0\n",
      "Input data checked\n",
      "There is no arbitrage\n",
      "\n"
     ]
    }
   ],
   "source": [
    "output = GetInputData()"
   ]
  },
  {
   "cell_type": "code",
   "execution_count": 75,
   "metadata": {},
   "outputs": [
    {
     "data": {
      "text/plain": [
       "[('S0', 1.0), ('U', 2.0), ('D', 3.0), ('R', 4.0)]"
      ]
     },
     "execution_count": 75,
     "metadata": {},
     "output_type": "execute_result"
    }
   ],
   "source": [
    "output"
   ]
  },
  {
   "cell_type": "code",
   "execution_count": null,
   "metadata": {},
   "outputs": [],
   "source": []
  }
 ],
 "metadata": {
  "anaconda-cloud": {},
  "kernelspec": {
   "display_name": "Python 3",
   "language": "python",
   "name": "python3"
  },
  "language_info": {
   "codemirror_mode": {
    "name": "ipython",
    "version": 3
   },
   "file_extension": ".py",
   "mimetype": "text/x-python",
   "name": "python",
   "nbconvert_exporter": "python",
   "pygments_lexer": "ipython3",
   "version": "3.6.8"
  }
 },
 "nbformat": 4,
 "nbformat_minor": 1
}

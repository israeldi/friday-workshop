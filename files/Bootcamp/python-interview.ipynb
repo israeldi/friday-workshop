{
 "cells": [
  {
   "cell_type": "markdown",
   "metadata": {},
   "source": [
    "### 1.1\n",
    "What is the value of $\\sqrt{2}^{\\sqrt{2}^{{\\sqrt{2}^{...}}}}$?"
   ]
  },
  {
   "cell_type": "code",
   "execution_count": 8,
   "metadata": {},
   "outputs": [
    {
     "name": "stdout",
     "output_type": "stream",
     "text": [
      "2.0\n"
     ]
    }
   ],
   "source": [
    "import math\n",
    "exponent = 1\n",
    "for n in range(0,1000):\n",
    "    exponent = math.sqrt(2)**exponent\n",
    "print exponent\n"
   ]
  },
  {
   "cell_type": "markdown",
   "metadata": {},
   "source": [
    "### 3.1\n",
    "You have a bag with two coins. One will come up heads 40% of the time, and the other will come up heads 60%. You pick a coin randomly, flip it and get a head. What is the probability it will be heads on the next flip?"
   ]
  },
  {
   "cell_type": "code",
   "execution_count": 1,
   "metadata": {},
   "outputs": [
    {
     "name": "stdout",
     "output_type": "stream",
     "text": [
      "26060 49890\n",
      "0.5223491681699739\n"
     ]
    }
   ],
   "source": [
    "import random as rnd\n",
    "\n",
    "firstFlipIsAHeadCounter = 0\n",
    "secondFlipIsAHeadCounter = 0\n",
    "\n",
    "def headsOrTails(probTails):\n",
    "    if rnd.random() < probTails:\n",
    "        return 0 # tails!\n",
    "    return 1 # heads!\n",
    "\n",
    "\n",
    "for trialCtr in range(1,100000):\n",
    "    if rnd.random() < 0.5: #reach into bag, and grab either coin\n",
    "        probTails = 0.6 #heads 40% of the time\n",
    "    else:\n",
    "        probTails = 0.4 #heads 60% of the time\n",
    "    coin = headsOrTails(probTails) #flip the coin!\n",
    "    \n",
    "    if coin == 1: # it's a head \n",
    "        firstFlipIsAHeadCounter +=1\n",
    "        secondFlipIsAHeadCounter += headsOrTails(probTails)\n",
    "\n",
    "probEstimate = float(secondFlipIsAHeadCounter) / firstFlipIsAHeadCounter\n",
    "print(secondFlipIsAHeadCounter, firstFlipIsAHeadCounter)\n",
    "print(probEstimate)"
   ]
  },
  {
   "cell_type": "markdown",
   "metadata": {},
   "source": [
    "### 3.1 Object-oriented version\n",
    "\n",
    "Here we solve the same problem, but introducing objects to python.\n",
    "\n",
    "A simplistic approach to OO design is to identify the nouns in the problem description, and consider those to be potential *classes*. A class is a template, sort of like a cookies cutter for stamping out identical objects, ready for use.\n",
    "\n",
    "In this problem, we see **coin** and **purse** in the problem description. So let's make them into classes.\n",
    "\n",
    "The *method* of a class represent the actions we expect of the objects created from the class."
   ]
  },
  {
   "cell_type": "code",
   "execution_count": 2,
   "metadata": {},
   "outputs": [
    {
     "data": {
      "text/plain": [
       "0.51961"
      ]
     },
     "execution_count": 2,
     "metadata": {},
     "output_type": "execute_result"
    }
   ],
   "source": [
    "import numpy as np\n",
    "\n",
    "class Coin(object):\n",
    "    def __init__(self, p):\n",
    "        self.prob_heads = p\n",
    "        \n",
    "    def flip_is_head(self):\n",
    "        return np.random.random() < self.prob_heads\n",
    "    \n",
    "    def __repr__(self):\n",
    "        return 'Coin with p = ' + str(self.prob_heads)\n",
    "    \n",
    "class Bag_of_coins(object):\n",
    "    def __init__(self):\n",
    "        self.coins = []\n",
    "\n",
    "    def add_coin(self, coin):\n",
    "        self.coins.append(coin)\n",
    "\n",
    "    def pick_random_coin(self):\n",
    "        return np.random.choice(self.coins)\n",
    "    \n",
    "bag = Bag_of_coins()\n",
    "bag.add_coin(Coin(0.4))\n",
    "bag.add_coin(Coin(0.6))\n",
    "\n",
    "num_trials = 100000\n",
    "trial_ctr = 0\n",
    "head_ctr = 0\n",
    "while trial_ctr < num_trials:\n",
    "    coin = bag.pick_random_coin()\n",
    "    if coin.flip_is_head():\n",
    "        trial_ctr += 1\n",
    "        if coin.flip_is_head():\n",
    "            head_ctr += 1\n",
    "head_ctr / trial_ctr\n",
    "     "
   ]
  },
  {
   "cell_type": "markdown",
   "metadata": {},
   "source": [
    "### 3.3\n",
    "In front of you is a jar of 1000 coins. One of the coins has two heads, and the rest are fair coins. You choose a coin at random, and flip it ten times, getting all heads. What is the probability it is one of the fair coins?"
   ]
  },
  {
   "cell_type": "code",
   "execution_count": 7,
   "metadata": {},
   "outputs": [
    {
     "name": "stdout",
     "output_type": "stream",
     "text": [
      "109 206 0.529126213592233\n"
     ]
    }
   ],
   "source": [
    "cb = Bag_of_coins()\n",
    "cb.add_coin(Coin(1))\n",
    "[cb.add_coin(Coin(0.5)) for n in range(0,999)]\n",
    "\n",
    "useabletrialCtr = 0\n",
    "fairCoinCtr = 0 \n",
    "\n",
    "for i in range(100000):\n",
    "    randomCoin = cb.pick_random_coin()\n",
    "    head_counter = 0\n",
    "    for _ in range(10):\n",
    "        if randomCoin.flip_is_head():\n",
    "            head_counter += 1\n",
    "        \n",
    "    if head_counter == 10:\n",
    "        useabletrialCtr += 1\n",
    "        if randomCoin.prob_heads < 1:\n",
    "            fairCoinCtr += 1\n",
    "print(fairCoinCtr, useabletrialCtr, float(fairCoinCtr)/useabletrialCtr)"
   ]
  },
  {
   "cell_type": "markdown",
   "metadata": {},
   "source": [
    "### Monte Hall Problem\n",
    "\n",
    "you are a contestant on a game show. You have 3 doors in front of you. Behind two of the doors are goats. Unattractive goats. Behind the other door is a brand new Tesla. The game show host asks you to choose a door. After you do, he opens one of the remaining doors, and there stands a goat. The game show host asks you if you'd like to switch doors. What do you do?"
   ]
  },
  {
   "cell_type": "code",
   "execution_count": null,
   "metadata": {
    "collapsed": true
   },
   "outputs": [],
   "source": []
  },
  {
   "cell_type": "markdown",
   "metadata": {},
   "source": [
    "### 3.5\n",
    "Starting at one vertex of a cube, and moving randomly from vertex to adjacent vertices, what is the expected number of moves until you reach the  vertex opposite from your starting point?"
   ]
  },
  {
   "cell_type": "code",
   "execution_count": null,
   "metadata": {},
   "outputs": [],
   "source": []
  },
  {
   "cell_type": "markdown",
   "metadata": {},
   "source": [
    "### 3.8\n",
    "You have a spinner that generates random numbers that are uniform between 0 and 1. You sum the spins until the sum is greater than one. What is the expected number of spins?"
   ]
  },
  {
   "cell_type": "code",
   "execution_count": 66,
   "metadata": {},
   "outputs": [],
   "source": [
    "import numpy as np\n",
    "class spinner(object):\n",
    "    def __init__(self):\n",
    "        self.total = 0\n",
    "        self.spinCounter = 0\n",
    "        \n",
    "    def spin(self):\n",
    "        self.total += np.random.random()\n",
    "        self.spinCounter += 1\n",
    "        \n",
    "    def reset(self):\n",
    "        self.total = 0\n",
    "        self.spinCounter = 0\n",
    "        \n",
    "    def spinUntilGreaterThanOneAndReset(self):\n",
    "        while self.total < 1:\n",
    "            self.spin()\n",
    "        answer = self.spinCounter\n",
    "        self.reset()    \n",
    "        return answer\n",
    "    \n",
    "spinner = spinner()\n",
    "totalSpins = 0\n",
    "numTrials = 1000\n",
    "trials = [spinner.spinUntilGreaterThanOneAndReset() for n in range(numTrials)]\n",
    "#print trials\n",
    "#print float(totalSpins) / numTrials"
   ]
  },
  {
   "cell_type": "code",
   "execution_count": 67,
   "metadata": {},
   "outputs": [
    {
     "name": "stdout",
     "output_type": "stream",
     "text": [
      "Populating the interactive namespace from numpy and matplotlib\n"
     ]
    },
    {
     "data": {
      "text/plain": [
       "(array([ 0.52 ,  0.326,  0.119,  0.03 ,  0.005]),\n",
       " array([ 2.,  3.,  4.,  5.,  6.,  7.]),\n",
       " <a list of 5 Patch objects>)"
      ]
     },
     "execution_count": 67,
     "metadata": {},
     "output_type": "execute_result"
    },
    {
     "data": {
      "image/png": "[encoded data removed]",
      "text/plain": [
       "<matplotlib.figure.Figure at 0x10a6af210>"
      ]
     },
     "metadata": {},
     "output_type": "display_data"
    }
   ],
   "source": [
    "#need next line to get figure to appear in Jupyter\n",
    "%pylab inline \n",
    "import matplotlib.pyplot as plt\n",
    "\n",
    "numBins = np.max(trials) - np.min(trials) + 1\n",
    "plt.hist(trials, bins=numBins, normed=True, align='left', rwidth=0.3, range=(2, 2 + numBins))"
   ]
  },
  {
   "cell_type": "markdown",
   "metadata": {},
   "source": [
    "### 3.10\n",
    "A stick is broken randomly into 3 pieces. What is the probability of the pieces being able to form a triangle?"
   ]
  },
  {
   "cell_type": "code",
   "execution_count": null,
   "metadata": {},
   "outputs": [],
   "source": []
  },
  {
   "cell_type": "markdown",
   "metadata": {},
   "source": [
    "### 3.11\n",
    "A stick is broken randomly into two pieces. The larger piece is then broken randomly into two pieces. What is the probability of the pieces being able to form a triangle?"
   ]
  },
  {
   "cell_type": "code",
   "execution_count": null,
   "metadata": {},
   "outputs": [],
   "source": []
  },
  {
   "cell_type": "markdown",
   "metadata": {},
   "source": [
    "### 3.12\n",
    "This is based on a Goldman Sachs interview question. You play a game where you toss two fair coins in the air. You always win $1. However, if you have tossed 2 heads at least once, and 2 tails at least once, you surrender all winnings, and cannot play again. You may stop playing at anytime. What’s your strategy?"
   ]
  },
  {
   "cell_type": "code",
   "execution_count": null,
   "metadata": {},
   "outputs": [],
   "source": [
    "%pylab inline\n",
    "import numpy as np\n",
    "import matplotlib.pyplot as plt\n",
    "\n",
    "class TwoDiceGame(object):\n",
    "    def play(self):\n",
    "        winnings = 0\n",
    "        two_of_same_seen = False\n",
    "        while True:\n",
    "            if two_of_same_seen:\n",
    "                if winnings >= 3:\n",
    "                    # our strategy: quit if we have 3+ in this case \n",
    "                    return winnings\n",
    "                if np.random.randint(4) == 0:\n",
    "                    # bad luck: both HH and TT seen, lost it all\n",
    "                    return 0\n",
    "            else:\n",
    "                two_of_same_seen = np.random.randint(2) == 0\n",
    "            winnings += 1\n",
    "    \n",
    "game = TwoDiceGame()\n",
    "num_trials = 10000\n",
    "trials = [game.play() for _ in range(num_trials)]\n",
    "num_bins = np.max(trials) - np.min(trials) + 1\n",
    "plt.hist(trials, bins = num_bins, normed = True, \n",
    "         align = 'left', rwidth=0.3, range = (0, num_bins))\n",
    "\n",
    "np.mean(trials)"
   ]
  },
  {
   "cell_type": "markdown",
   "metadata": {},
   "source": [
    "### 5.2\n",
    "You have a basket of $n$ assets. The asset returns are multivariate normal with zero mean. Correlation between any pair of assets is 1/2. What is the probability that $k$ of the assets will have positive return?"
   ]
  },
  {
   "cell_type": "code",
   "execution_count": 130,
   "metadata": {},
   "outputs": [
    {
     "data": {
      "text/plain": [
       "0.0009765625"
      ]
     },
     "execution_count": 130,
     "metadata": {},
     "output_type": "execute_result"
    }
   ],
   "source": [
    "from scipy.stats import mvn\n",
    "from scipy.special import comb\n",
    "import numpy as np\n",
    "\n",
    "n = 10\n",
    "k = 4\n",
    "\n",
    "# Sigma1 = (1/2) * np.ones((n, n))\n",
    "# np.fill_diagonal(Sigma1, 1)\n",
    "Sigma1 = np.identity(n)\n",
    "mu = np.zeros((n,))\n",
    "\n",
    "low = np.concatenate((np.zeros(k), -np.inf * np.ones(n - k)))\n",
    "upp = np.concatenate((np.inf * np.ones(k), np.zeros(n - k)))\n",
    "\n",
    "p, i = mvn.mvnun(lower=low, upper=upp, means=mu, covar=Sigma1)\n",
    "\n",
    "# Probability k are positive\n",
    "comb(n, k) * p"
   ]
  },
  {
   "cell_type": "markdown",
   "metadata": {},
   "source": [
    "**Check that probabilities sum up to 1**"
   ]
  },
  {
   "cell_type": "code",
   "execution_count": 126,
   "metadata": {},
   "outputs": [
    {
     "data": {
      "text/plain": [
       "1.0"
      ]
     },
     "execution_count": 126,
     "metadata": {},
     "output_type": "execute_result"
    }
   ],
   "source": [
    "n = 10\n",
    "\n",
    "prob = 0\n",
    "for k in range(0, n + 1):\n",
    "    Sigma1 = (1/2) * np.ones((n, n))\n",
    "    np.fill_diagonal(Sigma1, 1)\n",
    "    # Sigma1 = np.identity(k)\n",
    "    mu = np.zeros((n,))\n",
    "\n",
    "    low = np.concatenate((np.zeros(k), -np.inf * np.ones(n - k)))\n",
    "    upp = np.concatenate((np.inf * np.ones(k), np.zeros(n - k)))\n",
    "\n",
    "    p, i = mvn.mvnun(lower=low, upper=upp, means=mu, covar=Sigma1)\n",
    "\n",
    "    # Probability k are positive\n",
    "    prob = prob + comb(n, k) * p\n",
    "\n",
    "prob"
   ]
  },
  {
   "cell_type": "markdown",
   "metadata": {},
   "source": [
    "### 5.10\n",
    "Suppose there are 36 students in the QFRM program, each assigned a unique integer from 1 to 36. Thirty-six quarters are laid out on a table in a row, heads up. Each student goes to the table, and if they are assigned the number $n$, they turn over the $n$th coin, the $2n$th coin, and so on. So, for example, the student who is assigned 15 will turn over the 15th and 30th coins. When everyone is done, how many tails are showing?"
   ]
  },
  {
   "cell_type": "code",
   "execution_count": null,
   "metadata": {},
   "outputs": [],
   "source": []
  }
 ],
 "metadata": {
  "anaconda-cloud": {},
  "kernelspec": {
   "display_name": "Python 3",
   "language": "python",
   "name": "python3"
  },
  "language_info": {
   "codemirror_mode": {
    "name": "ipython",
    "version": 3
   },
   "file_extension": ".py",
   "mimetype": "text/x-python",
   "name": "python",
   "nbconvert_exporter": "python",
   "pygments_lexer": "ipython3",
   "version": "3.6.8"
  }
 },
 "nbformat": 4,
 "nbformat_minor": 1
}

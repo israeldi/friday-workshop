{
 "cells": [
  {
   "cell_type": "markdown",
   "metadata": {},
   "source": [
    "## Exploring the Data"
   ]
  },
  {
   "cell_type": "code",
   "execution_count": 1,
   "metadata": {},
   "outputs": [],
   "source": [
    "import pandas as pd\n",
    "import numpy as np\n",
    "import math\n",
    "from scipy import stats\n",
    "\n",
    "import matplotlib.pyplot as plt\n",
    "import matplotlib as mpl"
   ]
  },
  {
   "cell_type": "code",
   "execution_count": 16,
   "metadata": {},
   "outputs": [],
   "source": [
    "# Download the Data sets and put them in the same directory as your jupyter notebook\n",
    "desc_fname = 'OPEN_DATA_FIRE_INCIDENTS_FILE_DESCRIPTION.xls'\n",
    "data_fname = 'Incidents_Responded_to_by_Fire_Companies.csv'\n",
    "census_fname = 'https://s3.amazonaws.com/SplitwiseBlogJB/2010+Census+Population+By+Zipcode+(ZCTA).csv'"
   ]
  },
  {
   "cell_type": "code",
   "execution_count": 17,
   "metadata": {},
   "outputs": [
    {
     "name": "stdout",
     "output_type": "stream",
     "text": [
      "IM_INCIDENT_KEY\n",
      "Unique identifier for each incident which serves as the Primary Key\n",
      "-----------------------------------------\n",
      "FIRE_BOX\n",
      "Identifier for the Fire Alarm Box area in which the incident took place - unique per borough\n",
      "-----------------------------------------\n",
      "INCIDENT_TYPE_DESC\n",
      "The code and description of the incident category type\n",
      "-----------------------------------------\n",
      "INCIDENT_DATE_TIME\n",
      "The date and time that the incident was logged into the Computer Aided Dispatch system\n",
      "-----------------------------------------\n",
      "ARRIVAL_DATE_TIME\n",
      "The date and time that the first unit arrived on scene\n",
      "-----------------------------------------\n",
      "UNITS_ONSCENE\n",
      "Total number of units that arrived on scene\n",
      "-----------------------------------------\n",
      "LAST_UNIT_CLEARED_DATETIME\n",
      "The date and time that the incident was completed and the last unit cleared the scene\n",
      "-----------------------------------------\n",
      "HIGHEST_LEVEL_DESC\n",
      "The highest alarm level that the incident received\n",
      "-----------------------------------------\n",
      "TOTAL_INCIDENT_DURATION\n",
      "The total number of seconds from whe then incident was created to when the incident was closed\n",
      "-----------------------------------------\n",
      "ACTION_TAKEN1_DESC\n",
      "The code and description of the first action taken\n",
      "-----------------------------------------\n",
      "ACTION_TAKEN2_DESC\n",
      "The code and description of the second action taken\n",
      "-----------------------------------------\n",
      "ACTION_TAKEN3_DESC\n",
      "The code and description of the third action taken\n",
      "-----------------------------------------\n",
      "PROPERTY_USE_DESC\n",
      "The code and descirption of the type of street or building where the incident toook place\n",
      "-----------------------------------------\n",
      "STREET_HIGHWAY\n",
      "The name of the street where the incident_took place\n",
      "-----------------------------------------\n",
      "ZIP_CODE\n",
      "The postal zip code where the incident took place\n",
      "-----------------------------------------\n",
      "BOROUGH_DESC\n",
      "The borough where the incident took place\n",
      "-----------------------------------------\n",
      "FLOOR\n",
      "The floor of the building where the incident took place\n",
      "-----------------------------------------\n",
      "CO_DETECTOR_PRESENT_DESC\n",
      "Indicator for when a CO detector was present\n",
      "-----------------------------------------\n",
      "FIRE_ORIGIN_BELOW_GRADE_FLAG\n",
      "Indicator for when the fire originated below grade\n",
      "-----------------------------------------\n",
      "STORY_FIRE_ORIGIN_COUNT\n",
      "Story in which the fire originated\n",
      "-----------------------------------------\n",
      "FIRE_SPREAD_DESC\n",
      "How far the fire spread from the object of origin\n",
      "-----------------------------------------\n",
      "DETECTOR_PRESENCE_DESC\n",
      "Indicator for when a  detector was present\n",
      "-----------------------------------------\n",
      "AES_PRESENCE_DESC\n",
      "Indicator for when an Automatic Extinguishing System is present\n",
      "-----------------------------------------\n",
      "STANDPIPE_SYS_PRESENT_FLAG\n",
      "Indicator for when a standpipe was present in the area of origin of a fire\n",
      "-----------------------------------------\n"
     ]
    }
   ],
   "source": [
    "df_desc = pd.read_excel(desc_fname)\n",
    "for i, row in df_desc.iterrows():\n",
    "    print(row['Column Name'])\n",
    "    print(row['Description'])\n",
    "    print('-----------------------------------------')"
   ]
  },
  {
   "cell_type": "code",
   "execution_count": 18,
   "metadata": {},
   "outputs": [
    {
     "data": {
      "text/html": [
       "<div>\n",
       "<style scoped>\n",
       "    .dataframe tbody tr th:only-of-type {\n",
       "        vertical-align: middle;\n",
       "    }\n",
       "\n",
       "    .dataframe tbody tr th {\n",
       "        vertical-align: top;\n",
       "    }\n",
       "\n",
       "    .dataframe thead th {\n",
       "        text-align: right;\n",
       "    }\n",
       "</style>\n",
       "<table border=\"1\" class=\"dataframe\">\n",
       "  <thead>\n",
       "    <tr style=\"text-align: right;\">\n",
       "      <th></th>\n",
       "      <th>Zip Code ZCTA</th>\n",
       "      <th>2010 Census Population</th>\n",
       "    </tr>\n",
       "  </thead>\n",
       "  <tbody>\n",
       "    <tr>\n",
       "      <th>0</th>\n",
       "      <td>1001</td>\n",
       "      <td>16769</td>\n",
       "    </tr>\n",
       "    <tr>\n",
       "      <th>1</th>\n",
       "      <td>1002</td>\n",
       "      <td>29049</td>\n",
       "    </tr>\n",
       "    <tr>\n",
       "      <th>2</th>\n",
       "      <td>1003</td>\n",
       "      <td>10372</td>\n",
       "    </tr>\n",
       "    <tr>\n",
       "      <th>3</th>\n",
       "      <td>1005</td>\n",
       "      <td>5079</td>\n",
       "    </tr>\n",
       "    <tr>\n",
       "      <th>4</th>\n",
       "      <td>1007</td>\n",
       "      <td>14649</td>\n",
       "    </tr>\n",
       "  </tbody>\n",
       "</table>\n",
       "</div>"
      ],
      "text/plain": [
       "   Zip Code ZCTA  2010 Census Population\n",
       "0           1001                   16769\n",
       "1           1002                   29049\n",
       "2           1003                   10372\n",
       "3           1005                    5079\n",
       "4           1007                   14649"
      ]
     },
     "execution_count": 18,
     "metadata": {},
     "output_type": "execute_result"
    }
   ],
   "source": [
    "df_census = pd.read_csv(census_fname)\n",
    "df_census.head()"
   ]
  },
  {
   "cell_type": "code",
   "execution_count": 19,
   "metadata": {},
   "outputs": [
    {
     "name": "stderr",
     "output_type": "stream",
     "text": [
      "/Users/israeldiego/anaconda3/lib/python3.6/site-packages/IPython/core/interactiveshell.py:2785: DtypeWarning: Columns (1,14) have mixed types. Specify dtype option on import or set low_memory=False.\n",
      "  interactivity=interactivity, compiler=compiler, result=result)\n"
     ]
    },
    {
     "data": {
      "text/html": [
       "<div>\n",
       "<style scoped>\n",
       "    .dataframe tbody tr th:only-of-type {\n",
       "        vertical-align: middle;\n",
       "    }\n",
       "\n",
       "    .dataframe tbody tr th {\n",
       "        vertical-align: top;\n",
       "    }\n",
       "\n",
       "    .dataframe thead th {\n",
       "        text-align: right;\n",
       "    }\n",
       "</style>\n",
       "<table border=\"1\" class=\"dataframe\">\n",
       "  <thead>\n",
       "    <tr style=\"text-align: right;\">\n",
       "      <th></th>\n",
       "      <th>IM_INCIDENT_KEY</th>\n",
       "      <th>FIRE_BOX</th>\n",
       "      <th>INCIDENT_TYPE_DESC</th>\n",
       "      <th>INCIDENT_DATE_TIME</th>\n",
       "      <th>ARRIVAL_DATE_TIME</th>\n",
       "      <th>UNITS_ONSCENE</th>\n",
       "      <th>LAST_UNIT_CLEARED_DATE_TIME</th>\n",
       "      <th>HIGHEST_LEVEL_DESC</th>\n",
       "      <th>TOTAL_INCIDENT_DURATION</th>\n",
       "      <th>ACTION_TAKEN1_DESC</th>\n",
       "      <th>...</th>\n",
       "      <th>ZIP_CODE</th>\n",
       "      <th>BOROUGH_DESC</th>\n",
       "      <th>FLOOR</th>\n",
       "      <th>CO_DETECTOR_PRESENT_DESC</th>\n",
       "      <th>FIRE_ORIGIN_BELOW_GRADE_FLAG</th>\n",
       "      <th>STORY_FIRE_ORIGIN_COUNT</th>\n",
       "      <th>FIRE_SPREAD_DESC</th>\n",
       "      <th>DETECTOR_PRESENCE_DESC</th>\n",
       "      <th>AES_PRESENCE_DESC</th>\n",
       "      <th>STANDPIPE_SYS_PRESENT_FLAG</th>\n",
       "    </tr>\n",
       "  </thead>\n",
       "  <tbody>\n",
       "    <tr>\n",
       "      <th>0</th>\n",
       "      <td>63476768</td>\n",
       "      <td>2928</td>\n",
       "      <td>746 - Carbon monoxide detector activation, no CO</td>\n",
       "      <td>06/30/2018 11:55:29 PM</td>\n",
       "      <td>07/01/2018 12:00:32 AM</td>\n",
       "      <td>2.0</td>\n",
       "      <td>07/01/2018 12:22:57 AM</td>\n",
       "      <td>11 - First Alarm</td>\n",
       "      <td>1648.0</td>\n",
       "      <td>42 - HazMat detection, monitoring, sampling, &amp;...</td>\n",
       "      <td>...</td>\n",
       "      <td>10453</td>\n",
       "      <td>2 - Bronx</td>\n",
       "      <td>1</td>\n",
       "      <td>Yes</td>\n",
       "      <td>NaN</td>\n",
       "      <td>NaN</td>\n",
       "      <td>NaN</td>\n",
       "      <td>NaN</td>\n",
       "      <td>NaN</td>\n",
       "      <td>NaN</td>\n",
       "    </tr>\n",
       "    <tr>\n",
       "      <th>1</th>\n",
       "      <td>63476763</td>\n",
       "      <td>1021</td>\n",
       "      <td>300 - Rescue, EMS incident, other</td>\n",
       "      <td>06/30/2018 11:54:44 PM</td>\n",
       "      <td>06/30/2018 11:58:59 PM</td>\n",
       "      <td>1.0</td>\n",
       "      <td>07/01/2018 12:09:29 AM</td>\n",
       "      <td>11 - First Alarm</td>\n",
       "      <td>885.0</td>\n",
       "      <td>00 - Action taken, other</td>\n",
       "      <td>...</td>\n",
       "      <td>11203</td>\n",
       "      <td>4 - Brooklyn</td>\n",
       "      <td>NaN</td>\n",
       "      <td>NaN</td>\n",
       "      <td>NaN</td>\n",
       "      <td>NaN</td>\n",
       "      <td>NaN</td>\n",
       "      <td>NaN</td>\n",
       "      <td>NaN</td>\n",
       "      <td>NaN</td>\n",
       "    </tr>\n",
       "    <tr>\n",
       "      <th>2</th>\n",
       "      <td>63476761</td>\n",
       "      <td>2745</td>\n",
       "      <td>651 - Smoke scare, odor of smoke</td>\n",
       "      <td>06/30/2018 11:54:13 PM</td>\n",
       "      <td>06/30/2018 11:58:29 PM</td>\n",
       "      <td>3.0</td>\n",
       "      <td>07/01/2018 12:07:50 AM</td>\n",
       "      <td>11 - First Alarm</td>\n",
       "      <td>817.0</td>\n",
       "      <td>00 - Action taken, other</td>\n",
       "      <td>...</td>\n",
       "      <td>10456</td>\n",
       "      <td>2 - Bronx</td>\n",
       "      <td>NaN</td>\n",
       "      <td>NaN</td>\n",
       "      <td>NaN</td>\n",
       "      <td>NaN</td>\n",
       "      <td>NaN</td>\n",
       "      <td>NaN</td>\n",
       "      <td>NaN</td>\n",
       "      <td>NaN</td>\n",
       "    </tr>\n",
       "    <tr>\n",
       "      <th>3</th>\n",
       "      <td>63476762</td>\n",
       "      <td>2135</td>\n",
       "      <td>117 - Commercial Compactor fire, confined to r...</td>\n",
       "      <td>06/30/2018 11:54:08 PM</td>\n",
       "      <td>06/30/2018 11:58:53 PM</td>\n",
       "      <td>5.0</td>\n",
       "      <td>07/01/2018 12:19:16 AM</td>\n",
       "      <td>11 - First Alarm</td>\n",
       "      <td>1508.0</td>\n",
       "      <td>11 - Extinguishment by fire service personnel</td>\n",
       "      <td>...</td>\n",
       "      <td>10454</td>\n",
       "      <td>2 - Bronx</td>\n",
       "      <td>basement</td>\n",
       "      <td>NaN</td>\n",
       "      <td>NaN</td>\n",
       "      <td>NaN</td>\n",
       "      <td>NaN</td>\n",
       "      <td>NaN</td>\n",
       "      <td>NaN</td>\n",
       "      <td>NaN</td>\n",
       "    </tr>\n",
       "    <tr>\n",
       "      <th>4</th>\n",
       "      <td>63476759</td>\n",
       "      <td>1877</td>\n",
       "      <td>710 - Malicious, mischievous false call, other</td>\n",
       "      <td>06/30/2018 11:53:33 PM</td>\n",
       "      <td>06/30/2018 11:56:50 PM</td>\n",
       "      <td>1.0</td>\n",
       "      <td>06/30/2018 11:57:11 PM</td>\n",
       "      <td>11 - First Alarm</td>\n",
       "      <td>218.0</td>\n",
       "      <td>00 - Action taken, other</td>\n",
       "      <td>...</td>\n",
       "      <td>11208</td>\n",
       "      <td>4 - Brooklyn</td>\n",
       "      <td>NaN</td>\n",
       "      <td>NaN</td>\n",
       "      <td>NaN</td>\n",
       "      <td>NaN</td>\n",
       "      <td>NaN</td>\n",
       "      <td>NaN</td>\n",
       "      <td>NaN</td>\n",
       "      <td>NaN</td>\n",
       "    </tr>\n",
       "  </tbody>\n",
       "</table>\n",
       "<p>5 rows × 24 columns</p>\n",
       "</div>"
      ],
      "text/plain": [
       "   IM_INCIDENT_KEY FIRE_BOX  \\\n",
       "0         63476768     2928   \n",
       "1         63476763     1021   \n",
       "2         63476761     2745   \n",
       "3         63476762     2135   \n",
       "4         63476759     1877   \n",
       "\n",
       "                                  INCIDENT_TYPE_DESC      INCIDENT_DATE_TIME  \\\n",
       "0   746 - Carbon monoxide detector activation, no CO  06/30/2018 11:55:29 PM   \n",
       "1                  300 - Rescue, EMS incident, other  06/30/2018 11:54:44 PM   \n",
       "2                   651 - Smoke scare, odor of smoke  06/30/2018 11:54:13 PM   \n",
       "3  117 - Commercial Compactor fire, confined to r...  06/30/2018 11:54:08 PM   \n",
       "4     710 - Malicious, mischievous false call, other  06/30/2018 11:53:33 PM   \n",
       "\n",
       "        ARRIVAL_DATE_TIME  UNITS_ONSCENE LAST_UNIT_CLEARED_DATE_TIME  \\\n",
       "0  07/01/2018 12:00:32 AM            2.0      07/01/2018 12:22:57 AM   \n",
       "1  06/30/2018 11:58:59 PM            1.0      07/01/2018 12:09:29 AM   \n",
       "2  06/30/2018 11:58:29 PM            3.0      07/01/2018 12:07:50 AM   \n",
       "3  06/30/2018 11:58:53 PM            5.0      07/01/2018 12:19:16 AM   \n",
       "4  06/30/2018 11:56:50 PM            1.0      06/30/2018 11:57:11 PM   \n",
       "\n",
       "  HIGHEST_LEVEL_DESC  TOTAL_INCIDENT_DURATION  \\\n",
       "0   11 - First Alarm                   1648.0   \n",
       "1   11 - First Alarm                    885.0   \n",
       "2   11 - First Alarm                    817.0   \n",
       "3   11 - First Alarm                   1508.0   \n",
       "4   11 - First Alarm                    218.0   \n",
       "\n",
       "                                  ACTION_TAKEN1_DESC  \\\n",
       "0  42 - HazMat detection, monitoring, sampling, &...   \n",
       "1                           00 - Action taken, other   \n",
       "2                           00 - Action taken, other   \n",
       "3      11 - Extinguishment by fire service personnel   \n",
       "4                           00 - Action taken, other   \n",
       "\n",
       "              ...             ZIP_CODE  BOROUGH_DESC     FLOOR  \\\n",
       "0             ...                10453     2 - Bronx         1   \n",
       "1             ...                11203  4 - Brooklyn       NaN   \n",
       "2             ...                10456     2 - Bronx       NaN   \n",
       "3             ...                10454     2 - Bronx  basement   \n",
       "4             ...                11208  4 - Brooklyn       NaN   \n",
       "\n",
       "  CO_DETECTOR_PRESENT_DESC FIRE_ORIGIN_BELOW_GRADE_FLAG  \\\n",
       "0                      Yes                          NaN   \n",
       "1                      NaN                          NaN   \n",
       "2                      NaN                          NaN   \n",
       "3                      NaN                          NaN   \n",
       "4                      NaN                          NaN   \n",
       "\n",
       "  STORY_FIRE_ORIGIN_COUNT FIRE_SPREAD_DESC DETECTOR_PRESENCE_DESC  \\\n",
       "0                     NaN              NaN                    NaN   \n",
       "1                     NaN              NaN                    NaN   \n",
       "2                     NaN              NaN                    NaN   \n",
       "3                     NaN              NaN                    NaN   \n",
       "4                     NaN              NaN                    NaN   \n",
       "\n",
       "   AES_PRESENCE_DESC  STANDPIPE_SYS_PRESENT_FLAG  \n",
       "0                NaN                         NaN  \n",
       "1                NaN                         NaN  \n",
       "2                NaN                         NaN  \n",
       "3                NaN                         NaN  \n",
       "4                NaN                         NaN  \n",
       "\n",
       "[5 rows x 24 columns]"
      ]
     },
     "execution_count": 19,
     "metadata": {},
     "output_type": "execute_result"
    }
   ],
   "source": [
    "date_columns = ['INCIDENT_DATE_TIME', 'ARRIVAL_DATE_TIME', 'LAST_UNIT_CLEARED_DATE_TIME']\n",
    "data_type = {'ZIP_CODE':int}\n",
    "df_data = pd.read_csv(data_fname)\n",
    "df_data.head()"
   ]
  },
  {
   "cell_type": "code",
   "execution_count": 20,
   "metadata": {},
   "outputs": [],
   "source": [
    "def zipcode(x):\n",
    "    \"\"\"\n",
    "    change zip code from float to int\n",
    "    \"\"\"\n",
    "    try:\n",
    "        y = int(x)\n",
    "    except ValueError:\n",
    "        if type(x) == str:\n",
    "            y = int(x.split('-')[0])\n",
    "        elif math.isnan(x):\n",
    "            y = 0\n",
    "        \n",
    "    return y \n",
    "\n",
    "df_data['ZIP_CODE'] = df_data['ZIP_CODE'].apply(lambda x: zipcode(x))"
   ]
  },
  {
   "cell_type": "code",
   "execution_count": 21,
   "metadata": {},
   "outputs": [],
   "source": [
    "df_data['INCIDENT_TYPE_CODE'] = df_data['INCIDENT_TYPE_DESC'].apply(lambda x: x.split(' - ')[0])"
   ]
  },
  {
   "cell_type": "markdown",
   "metadata": {},
   "source": [
    "# Most common incident"
   ]
  },
  {
   "cell_type": "code",
   "execution_count": 22,
   "metadata": {
    "scrolled": true
   },
   "outputs": [],
   "source": [
    "incidents = pd.DataFrame(df_data.groupby('INCIDENT_TYPE_DESC')['INCIDENT_TYPE_DESC'].size())"
   ]
  },
  {
   "cell_type": "code",
   "execution_count": 23,
   "metadata": {},
   "outputs": [],
   "source": [
    "incidents['incident_ratio'] = incidents['INCIDENT_TYPE_DESC']/len(df_data)"
   ]
  },
  {
   "cell_type": "code",
   "execution_count": 24,
   "metadata": {},
   "outputs": [],
   "source": [
    "most_common_incident = incidents.sort_values('incident_ratio').incident_ratio.iloc[-1]"
   ]
  },
  {
   "cell_type": "code",
   "execution_count": 25,
   "metadata": {},
   "outputs": [
    {
     "data": {
      "text/plain": [
       "0.35988610259500914"
      ]
     },
     "execution_count": 25,
     "metadata": {},
     "output_type": "execute_result"
    }
   ],
   "source": [
    "most_common_incident"
   ]
  },
  {
   "cell_type": "markdown",
   "metadata": {},
   "source": [
    "# False calls in Staten Island vs Manhatan"
   ]
  },
  {
   "cell_type": "code",
   "execution_count": 26,
   "metadata": {},
   "outputs": [],
   "source": [
    "df_false = df_data[df_data['INCIDENT_TYPE_CODE'] == '710']   "
   ]
  },
  {
   "cell_type": "code",
   "execution_count": 27,
   "metadata": {},
   "outputs": [],
   "source": [
    "df_false_dest = pd.DataFrame(df_false.groupby('BOROUGH_DESC').size())"
   ]
  },
  {
   "cell_type": "code",
   "execution_count": 28,
   "metadata": {},
   "outputs": [],
   "source": [
    "manhattan = df_false_dest[df_false_dest.index == '1 - Manhattan'].values[0][0]\n",
    "staten = df_false_dest[df_false_dest.index =='3 - Staten Island'].values[0][0]"
   ]
  },
  {
   "cell_type": "code",
   "execution_count": 29,
   "metadata": {},
   "outputs": [
    {
     "data": {
      "text/plain": [
       "0.32626764908714745"
      ]
     },
     "execution_count": 29,
     "metadata": {},
     "output_type": "execute_result"
    }
   ],
   "source": [
    "staten/manhattan"
   ]
  },
  {
   "cell_type": "markdown",
   "metadata": {},
   "source": [
    "# Cooking fire hour"
   ]
  },
  {
   "cell_type": "code",
   "execution_count": null,
   "metadata": {},
   "outputs": [],
   "source": [
    "df_cooking = df_data[['INCIDENT_TYPE_DESC', 'INCIDENT_TYPE_CODE', 'INCIDENT_DATE_TIME']]\n",
    "df_cooking['Hour'] = pd.to_datetime(df_cooking['INCIDENT_DATE_TIME']).dt.hour"
   ]
  },
  {
   "cell_type": "code",
   "execution_count": null,
   "metadata": {},
   "outputs": [],
   "source": [
    "hour_count = df_cooking.groupby('Hour')['INCIDENT_TYPE_CODE'].count()\n",
    "cooking_count = df_cooking[df_cooking.INCIDENT_TYPE_CODE == '113'].groupby('Hour')['INCIDENT_TYPE_CODE'].count()"
   ]
  },
  {
   "cell_type": "code",
   "execution_count": 182,
   "metadata": {},
   "outputs": [
    {
     "data": {
      "text/plain": [
       "0.050846824501505385"
      ]
     },
     "execution_count": 182,
     "metadata": {},
     "output_type": "execute_result"
    }
   ],
   "source": [
    "cooking_proba = pd.DataFrame(cooking_count/hour_count)\n",
    "cooking_proba.max()[0]"
   ]
  },
  {
   "cell_type": "markdown",
   "metadata": {},
   "source": [
    "# Average number of units 111 vs 651"
   ]
  },
  {
   "cell_type": "code",
   "execution_count": null,
   "metadata": {},
   "outputs": [],
   "source": [
    "df_111_651 = df_data[df_data.INCIDENT_TYPE_CODE.isin(['111', '651'])]"
   ]
  },
  {
   "cell_type": "code",
   "execution_count": null,
   "metadata": {},
   "outputs": [],
   "source": [
    "units_111 = df_111_651.groupby('INCIDENT_TYPE_CODE')['UNITS_ONSCENE'].mean()['111']\n",
    "units_651 = df_111_651.groupby('INCIDENT_TYPE_CODE')['UNITS_ONSCENE'].mean()['651']"
   ]
  },
  {
   "cell_type": "code",
   "execution_count": null,
   "metadata": {},
   "outputs": [],
   "source": [
    "units_111/units_651"
   ]
  },
  {
   "cell_type": "markdown",
   "metadata": {},
   "source": [
    "# 111 Incidents\n",
    "\n",
    "INCIDENT_DATE_TIME\n",
    "\n",
    "The date and time that the incident was logged into the Computer Aided Dispatch system\n",
    "\n",
    "ARRIVAL_DATE_TIME\n",
    "\n",
    "The date and time that the first unit arrived on scene"
   ]
  },
  {
   "cell_type": "code",
   "execution_count": 194,
   "metadata": {},
   "outputs": [],
   "source": [
    "df_111 = df_data[df_data.INCIDENT_TYPE_CODE=='111'][['INCIDENT_DATE_TIME', 'ARRIVAL_DATE_TIME', 'ZIP_CODE']].dropna()"
   ]
  },
  {
   "cell_type": "code",
   "execution_count": 195,
   "metadata": {},
   "outputs": [],
   "source": [
    "for c in ['INCIDENT_DATE_TIME', 'ARRIVAL_DATE_TIME']:\n",
    "    df_111[c] = pd.to_datetime(df_111[c])"
   ]
  },
  {
   "cell_type": "markdown",
   "metadata": {},
   "source": [
    "## difference in call and arrival time"
   ]
  },
  {
   "cell_type": "code",
   "execution_count": 231,
   "metadata": {},
   "outputs": [],
   "source": [
    "df_111['min_diff'] = (df_111.ARRIVAL_DATE_TIME - df_111.INCIDENT_DATE_TIME)/np.timedelta64(1, 'm')"
   ]
  },
  {
   "cell_type": "code",
   "execution_count": 232,
   "metadata": {},
   "outputs": [
    {
     "data": {
      "text/plain": [
       "2.6666666666666665"
      ]
     },
     "execution_count": 232,
     "metadata": {},
     "output_type": "execute_result"
    }
   ],
   "source": [
    "df_111.min_diff.iloc[0]"
   ]
  },
  {
   "cell_type": "code",
   "execution_count": 233,
   "metadata": {},
   "outputs": [
    {
     "data": {
      "text/plain": [
       "4.15"
      ]
     },
     "execution_count": 233,
     "metadata": {},
     "output_type": "execute_result"
    }
   ],
   "source": [
    "third_quartile = np.nanpercentile(df_111.min_diff.values, 75)\n",
    "third_quartile"
   ]
  },
  {
   "cell_type": "code",
   "execution_count": 234,
   "metadata": {},
   "outputs": [
    {
     "data": {
      "text/plain": [
       "4.15"
      ]
     },
     "execution_count": 234,
     "metadata": {},
     "output_type": "execute_result"
    }
   ],
   "source": [
    "def percentile(data, percentile):\n",
    "    size = len(data)\n",
    "    return sorted(data)[int(math.ceil((size * percentile) / 100)) - 1]\n",
    "\n",
    "percentile(df_111.min_diff.tolist(), 75)"
   ]
  },
  {
   "cell_type": "markdown",
   "metadata": {},
   "source": [
    "## r2 for zipcode population vs incidents"
   ]
  },
  {
   "cell_type": "code",
   "execution_count": null,
   "metadata": {},
   "outputs": [],
   "source": [
    "df_zipcode = pd.DataFrame(index=df_111.ZIP_CODE.unique())"
   ]
  },
  {
   "cell_type": "code",
   "execution_count": null,
   "metadata": {},
   "outputs": [],
   "source": [
    "df_census = df_census.set_index('Zip Code ZCTA')"
   ]
  },
  {
   "cell_type": "code",
   "execution_count": null,
   "metadata": {
    "scrolled": true
   },
   "outputs": [],
   "source": [
    "df_census[df_census.index == 10002]"
   ]
  },
  {
   "cell_type": "code",
   "execution_count": null,
   "metadata": {},
   "outputs": [],
   "source": [
    "df_zipcode['incidents'] = df_111.groupby('ZIP_CODE').size()"
   ]
  },
  {
   "cell_type": "code",
   "execution_count": null,
   "metadata": {},
   "outputs": [],
   "source": [
    "df_zipcode = df_zipcode.merge(df_census, left_index=True, right_index=True)"
   ]
  },
  {
   "cell_type": "code",
   "execution_count": null,
   "metadata": {},
   "outputs": [],
   "source": [
    "df_zipcode = df_zipcode.rename(columns={'2010 Census Population': 'population'})"
   ]
  },
  {
   "cell_type": "code",
   "execution_count": 45,
   "metadata": {},
   "outputs": [
    {
     "data": {
      "text/plain": [
       "0.7728773478798213"
      ]
     },
     "execution_count": 45,
     "metadata": {},
     "output_type": "execute_result"
    }
   ],
   "source": [
    "y = df_zipcode['incidents']\n",
    "x = df_zipcode['population']\n",
    "slope, intercept, r_value, p_value, std_err = stats.linregress(x, y)\n",
    "r_value"
   ]
  },
  {
   "cell_type": "code",
   "execution_count": 39,
   "metadata": {},
   "outputs": [
    {
     "data": {
      "text/plain": [
       "<matplotlib.axes._subplots.AxesSubplot at 0x113a11240>"
      ]
     },
     "execution_count": 39,
     "metadata": {},
     "output_type": "execute_result"
    },
    {
     "data": {
      "image/png": "[encoded data removed]",
      "text/plain": [
       "<Figure size 432x288 with 1 Axes>"
      ]
     },
     "metadata": {
      "needs_background": "light"
     },
     "output_type": "display_data"
    }
   ],
   "source": [
    "df_zipcode.plot.scatter(x='population', y='incidents')"
   ]
  },
  {
   "cell_type": "markdown",
   "metadata": {},
   "source": [
    "# CO detector"
   ]
  },
  {
   "cell_type": "markdown",
   "metadata": {},
   "source": [
    "## Incident duration\n",
    "For this question, only consider incidents that have information about whether a CO detector was present or not. We are interested in how many times more likely it is that an incident is long when no CO detector is present compared to when a CO detector is present. For events with CO detector and for those without one, compute the proportion of incidents that lasted 20-30, 30-40, 40-50, 50-60, and 60-70 minutes (both interval boundary values included) by dividing the number of incidents in each time interval with the total number of incidents. For each bin, compute the ratio of the 'CO detector absent' frequency to the 'CO detector present' frequency. Perform a linear regression of this ratio to the mid-point of the bins. From this, what is the predicted ratio for events lasting 39 minutes?\n",
    "\n",
    "TOTAL_INCIDENT_DURATION\n",
    "The total number of seconds from whe then incident was created to when the incident was closed\n"
   ]
  },
  {
   "cell_type": "code",
   "execution_count": 114,
   "metadata": {},
   "outputs": [],
   "source": [
    "df_co = df_data[~df_data.CO_DETECTOR_PRESENT_DESC.isnull()]"
   ]
  },
  {
   "cell_type": "code",
   "execution_count": 115,
   "metadata": {},
   "outputs": [
    {
     "name": "stderr",
     "output_type": "stream",
     "text": [
      "/anaconda3/envs/tdi/lib/python3.7/site-packages/ipykernel_launcher.py:1: SettingWithCopyWarning: \n",
      "A value is trying to be set on a copy of a slice from a DataFrame.\n",
      "Try using .loc[row_indexer,col_indexer] = value instead\n",
      "\n",
      "See the caveats in the documentation: http://pandas.pydata.org/pandas-docs/stable/indexing.html#indexing-view-versus-copy\n",
      "  \"\"\"Entry point for launching an IPython kernel.\n"
     ]
    }
   ],
   "source": [
    "df_co['duration_min'] = pd.to_timedelta(pd.to_timedelta(df_co['TOTAL_INCIDENT_DURATION'], unit='s')/np.timedelta64(1, 'm'), unit='m')"
   ]
  },
  {
   "cell_type": "code",
   "execution_count": 116,
   "metadata": {},
   "outputs": [
    {
     "data": {
      "text/html": [
       "<div>\n",
       "<style scoped>\n",
       "    .dataframe tbody tr th:only-of-type {\n",
       "        vertical-align: middle;\n",
       "    }\n",
       "\n",
       "    .dataframe tbody tr th {\n",
       "        vertical-align: top;\n",
       "    }\n",
       "\n",
       "    .dataframe thead th {\n",
       "        text-align: right;\n",
       "    }\n",
       "</style>\n",
       "<table border=\"1\" class=\"dataframe\">\n",
       "  <thead>\n",
       "    <tr style=\"text-align: right;\">\n",
       "      <th></th>\n",
       "      <th>TOTAL_INCIDENT_DURATION</th>\n",
       "      <th>duration_min</th>\n",
       "    </tr>\n",
       "  </thead>\n",
       "  <tbody>\n",
       "    <tr>\n",
       "      <th>28</th>\n",
       "      <td>1300.0</td>\n",
       "      <td>00:21:40</td>\n",
       "    </tr>\n",
       "    <tr>\n",
       "      <th>153</th>\n",
       "      <td>398.0</td>\n",
       "      <td>00:06:38</td>\n",
       "    </tr>\n",
       "    <tr>\n",
       "      <th>194</th>\n",
       "      <td>1547.0</td>\n",
       "      <td>00:25:47</td>\n",
       "    </tr>\n",
       "    <tr>\n",
       "      <th>249</th>\n",
       "      <td>904.0</td>\n",
       "      <td>00:15:04</td>\n",
       "    </tr>\n",
       "    <tr>\n",
       "      <th>449</th>\n",
       "      <td>1871.0</td>\n",
       "      <td>00:31:11</td>\n",
       "    </tr>\n",
       "  </tbody>\n",
       "</table>\n",
       "</div>"
      ],
      "text/plain": [
       "     TOTAL_INCIDENT_DURATION duration_min\n",
       "28                    1300.0     00:21:40\n",
       "153                    398.0     00:06:38\n",
       "194                   1547.0     00:25:47\n",
       "249                    904.0     00:15:04\n",
       "449                   1871.0     00:31:11"
      ]
     },
     "execution_count": 116,
     "metadata": {},
     "output_type": "execute_result"
    }
   ],
   "source": [
    "df_co[['TOTAL_INCIDENT_DURATION', 'duration_min']].head()"
   ]
  },
  {
   "cell_type": "code",
   "execution_count": 133,
   "metadata": {},
   "outputs": [
    {
     "name": "stderr",
     "output_type": "stream",
     "text": [
      "/anaconda3/envs/tdi/lib/python3.7/site-packages/ipykernel_launcher.py:1: FutureWarning: pd.TimeGrouper is deprecated and will be removed; Please use pd.Grouper(freq=...)\n",
      "  \"\"\"Entry point for launching an IPython kernel.\n"
     ]
    }
   ],
   "source": [
    "df_co_group = pd.DataFrame(df_co.groupby(['CO_DETECTOR_PRESENT_DESC', pd.TimeGrouper(key='duration_min', freq='10Min')])['duration_min'].size())"
   ]
  },
  {
   "cell_type": "code",
   "execution_count": 143,
   "metadata": {},
   "outputs": [],
   "source": [
    "df_co_binned = pd.DataFrame(index=df_co_group.loc['No'].index)"
   ]
  },
  {
   "cell_type": "code",
   "execution_count": 144,
   "metadata": {},
   "outputs": [],
   "source": [
    "df_co_binned['no'] = df_co_group.loc['No']/df_co_group.loc['No'].sum()\n",
    "df_co_binned['yes'] = df_co_group.loc['Yes']/df_co_group.loc['Yes'].sum()\n"
   ]
  },
  {
   "cell_type": "code",
   "execution_count": 145,
   "metadata": {},
   "outputs": [],
   "source": [
    "df_co_binned['ratio'] = df_co_binned['no']/df_co_binned['yes']"
   ]
  },
  {
   "cell_type": "code",
   "execution_count": 146,
   "metadata": {},
   "outputs": [],
   "source": [
    "df_co_binned = df_co_binned.iloc[2:7]"
   ]
  },
  {
   "cell_type": "code",
   "execution_count": 147,
   "metadata": {},
   "outputs": [],
   "source": [
    "df_co_binned['mid_bin'] = [25, 35, 45, 55, 65]"
   ]
  },
  {
   "cell_type": "code",
   "execution_count": 148,
   "metadata": {},
   "outputs": [
    {
     "name": "stdout",
     "output_type": "stream",
     "text": [
      "0.9936571922014504\n",
      "1.407776231369608\n"
     ]
    }
   ],
   "source": [
    "x = df_co_binned.mid_bin\n",
    "y = df_co_binned.ratio\n",
    "\n",
    "a, b, r, p, stderr = stats.linregress(x, y)\n",
    "print(r)\n",
    "print(a*39 + b)"
   ]
  },
  {
   "cell_type": "markdown",
   "metadata": {},
   "source": [
    "## likely hood to last longer than 60 min\n",
    "\n",
    "Calculate the chi-square test statistic for testing whether an incident is more likely to last longer than 60 minutes when CO detector is not present. Again only consider incidents that have information about whether a CO detector was present or not."
   ]
  },
  {
   "cell_type": "code",
   "execution_count": 252,
   "metadata": {},
   "outputs": [
    {
     "name": "stderr",
     "output_type": "stream",
     "text": [
      "/anaconda3/envs/tdi/lib/python3.7/site-packages/ipykernel_launcher.py:1: SettingWithCopyWarning: \n",
      "A value is trying to be set on a copy of a slice from a DataFrame.\n",
      "Try using .loc[row_indexer,col_indexer] = value instead\n",
      "\n",
      "See the caveats in the documentation: http://pandas.pydata.org/pandas-docs/stable/indexing.html#indexing-view-versus-copy\n",
      "  \"\"\"Entry point for launching an IPython kernel.\n"
     ]
    }
   ],
   "source": [
    "df_co['long'] = df_co.duration_min.apply(lambda x: 'long' if x > pd.Timedelta(minutes=60) else 'short')"
   ]
  },
  {
   "cell_type": "code",
   "execution_count": 255,
   "metadata": {},
   "outputs": [],
   "source": [
    "df_co_time = df_co.groupby(['CO_DETECTOR_PRESENT_DESC', 'long']).size().unstack()"
   ]
  },
  {
   "cell_type": "code",
   "execution_count": 256,
   "metadata": {},
   "outputs": [
    {
     "data": {
      "text/html": [
       "<div>\n",
       "<style scoped>\n",
       "    .dataframe tbody tr th:only-of-type {\n",
       "        vertical-align: middle;\n",
       "    }\n",
       "\n",
       "    .dataframe tbody tr th {\n",
       "        vertical-align: top;\n",
       "    }\n",
       "\n",
       "    .dataframe thead th {\n",
       "        text-align: right;\n",
       "    }\n",
       "</style>\n",
       "<table border=\"1\" class=\"dataframe\">\n",
       "  <thead>\n",
       "    <tr style=\"text-align: right;\">\n",
       "      <th>long</th>\n",
       "      <th>long</th>\n",
       "      <th>short</th>\n",
       "    </tr>\n",
       "    <tr>\n",
       "      <th>CO_DETECTOR_PRESENT_DESC</th>\n",
       "      <th></th>\n",
       "      <th></th>\n",
       "    </tr>\n",
       "  </thead>\n",
       "  <tbody>\n",
       "    <tr>\n",
       "      <th>No</th>\n",
       "      <td>859</td>\n",
       "      <td>4785</td>\n",
       "    </tr>\n",
       "    <tr>\n",
       "      <th>Yes</th>\n",
       "      <td>835</td>\n",
       "      <td>23196</td>\n",
       "    </tr>\n",
       "  </tbody>\n",
       "</table>\n",
       "</div>"
      ],
      "text/plain": [
       "long                      long  short\n",
       "CO_DETECTOR_PRESENT_DESC             \n",
       "No                         859   4785\n",
       "Yes                        835  23196"
      ]
     },
     "execution_count": 256,
     "metadata": {},
     "output_type": "execute_result"
    }
   ],
   "source": [
    "df_co_time"
   ]
  },
  {
   "cell_type": "code",
   "execution_count": 260,
   "metadata": {},
   "outputs": [],
   "source": [
    "statistic, p = stats.chisquare([df_co_time['long']['No']/df_co_time.loc['No'].sum()], [df_co_time['long'].sum()/df_co_time.values.sum()])"
   ]
  },
  {
   "cell_type": "code",
   "execution_count": 259,
   "metadata": {},
   "outputs": [
    {
     "data": {
      "text/plain": [
       "29675"
      ]
     },
     "execution_count": 259,
     "metadata": {},
     "output_type": "execute_result"
    }
   ],
   "source": [
    "df_co_time.values.sum()"
   ]
  }
 ],
 "metadata": {
  "kernelspec": {
   "display_name": "Python 3",
   "language": "python",
   "name": "python3"
  },
  "language_info": {
   "codemirror_mode": {
    "name": "ipython",
    "version": 3
   },
   "file_extension": ".py",
   "mimetype": "text/x-python",
   "name": "python",
   "nbconvert_exporter": "python",
   "pygments_lexer": "ipython3",
   "version": "3.6.8"
  }
 },
 "nbformat": 4,
 "nbformat_minor": 2
}

{
 "cells": [
  {
   "cell_type": "code",
   "execution_count": 13,
   "metadata": {},
   "outputs": [],
   "source": [
    "import numpy as np\n",
    "import pandas as pd\n",
    "import matplotlib.pyplot as plt"
   ]
  },
  {
   "cell_type": "markdown",
   "metadata": {},
   "source": [
    "# Functions"
   ]
  },
  {
   "cell_type": "code",
   "execution_count": 14,
   "metadata": {},
   "outputs": [],
   "source": [
    "def initiate_position(N, M):\n",
    "    # Initialize 1-d array where cars are in position 0 - M-1\n",
    "    N_circle = np.zeros(N)\n",
    "    for i in range(M):\n",
    "        N_circle[i] = 1\n",
    "    return N_circle"
   ]
  },
  {
   "cell_type": "code",
   "execution_count": 15,
   "metadata": {},
   "outputs": [],
   "source": [
    "# Returns indices of cars that are able to move forward\n",
    "def find_movable_cars(N_circle, N):\n",
    "    movable_car_index = []\n",
    "    for i in range(N): #i is the location of the cars\n",
    "        #cannot be last i\n",
    "        if i != N-1:\n",
    "            if N_circle[i] == 1 and N_circle[i+1] == 0:\n",
    "                #movable\n",
    "                movable_car_index.append((i, i+1))\n",
    "        else: #when i is the last loc\n",
    "            if N_circle[i] == 1 and N_circle[0] == 0:\n",
    "                movable_car_index.append((i, 0))\n",
    "    return movable_car_index"
   ]
  },
  {
   "cell_type": "code",
   "execution_count": 61,
   "metadata": {},
   "outputs": [
    {
     "data": {
      "text/plain": [
       "array([0., 1., 1., 1., 1., 1., 1., 1., 0., 1., 0., 0., 1., 0., 0., 1., 0.,\n",
       "       0., 0., 0., 0., 0., 0., 0., 0.])"
      ]
     },
     "execution_count": 61,
     "metadata": {},
     "output_type": "execute_result"
    }
   ],
   "source": [
    "def move_cars(N_circle, movable_cars):\n",
    "    # Pick a random car out of the list of movable cars\n",
    "    move_car = movable_cars[np.random.choice(range(len(movable_cars)))]\n",
    "    \n",
    "    # Move the car forward one position\n",
    "    N_circle[move_car[0]] = 0\n",
    "    N_circle[move_car[1]] = 1\n",
    "    \n",
    "    # Return the updated car_circle\n",
    "    return N_circle\n",
    "\n",
    "#N_circle = initiate_position(25, 10)\n",
    "moveable_cars = find_movable_cars(N_circle, 25)\n",
    "\n",
    "N_circle = move_cars(N_circle, moveable_cars)\n",
    "N_circle"
   ]
  },
  {
   "cell_type": "markdown",
   "metadata": {},
   "source": [
    "# Run"
   ]
  },
  {
   "cell_type": "code",
   "execution_count": 17,
   "metadata": {},
   "outputs": [],
   "source": [
    "# define \n",
    "N = 25\n",
    "M = 10\n",
    "T = 50"
   ]
  },
  {
   "cell_type": "code",
   "execution_count": 35,
   "metadata": {
    "scrolled": false
   },
   "outputs": [
    {
     "data": {
      "text/plain": [
       "[(6, 7), (8, 9), (11, 12), (16, 17), (20, 21)]"
      ]
     },
     "execution_count": 35,
     "metadata": {},
     "output_type": "execute_result"
    }
   ],
   "source": [
    "repeat = 999 # num trials\n",
    "As = [] # list of Averages per trial\n",
    "Ss = [] # list of s.d's per trial\n",
    "\n",
    "for _ in range(repeat):\n",
    "    # Initialize our car circle\n",
    "    car_circle = initiate_position(N, M)\n",
    "    t = T\n",
    "    \n",
    "    # Move cars for T rounds\n",
    "    while t:\n",
    "        movable_cars = find_movable_cars(car_circle, N)\n",
    "        car_circle = move_cars(car_circle, movable_cars)\n",
    "        t -= 1\n",
    "    \n",
    "    # Average of our current trial\n",
    "    A = np.dot(np.array(range(N)), car_circle) / M\n",
    "    \n",
    "    # Standard Deviation of our current trial\n",
    "    S = np.sqrt(np.dot(np.square(np.array(range(N))), car_circle)/M - np.square(A))\n",
    "    \n",
    "    # Add to our list of average and s.d's\n",
    "    As.append(A)\n",
    "    Ss.append(S)\n",
    "    \n",
    "movable_cars"
   ]
  },
  {
   "cell_type": "code",
   "execution_count": 33,
   "metadata": {},
   "outputs": [],
   "source": [
    "df = pd.DataFrame(index=range(len(As)), columns=['A','S'], data={'A':As,'S':Ss})"
   ]
  },
  {
   "cell_type": "code",
   "execution_count": 62,
   "metadata": {
    "scrolled": true
   },
   "outputs": [
    {
     "name": "stdout",
     "output_type": "stream",
     "text": [
      "9.27977977977978\n",
      "6.139871060596699\n"
     ]
    },
    {
     "data": {
      "image/png": "[encoded data removed]",
      "text/plain": [
       "<Figure size 432x288 with 1 Axes>"
      ]
     },
     "metadata": {},
     "output_type": "display_data"
    }
   ],
   "source": [
    "plt.plot(df.expanding().mean()['A'])\n",
    "plt.title(\"Average A over repeated trials\")\n",
    "plt.xscale('log')\n",
    "print(df.A.mean())\n",
    "print(df.S.mean())"
   ]
  },
  {
   "cell_type": "code",
   "execution_count": 63,
   "metadata": {},
   "outputs": [
    {
     "name": "stdout",
     "output_type": "stream",
     "text": [
      "0.7089123111367904\n",
      "0.8020710765958723\n"
     ]
    }
   ],
   "source": [
    "print(df.A.std())\n",
    "print(df.S.std())"
   ]
  },
  {
   "cell_type": "code",
   "execution_count": 28,
   "metadata": {},
   "outputs": [
    {
     "name": "stdout",
     "output_type": "stream",
     "text": [
      "63.9 µs ± 3.46 µs per loop (mean ± std. dev. of 7 runs, 10000 loops each)\n"
     ]
    }
   ],
   "source": [
    "%%timeit\n",
    "df.A.std()"
   ]
  },
  {
   "cell_type": "code",
   "execution_count": 29,
   "metadata": {},
   "outputs": [
    {
     "name": "stdout",
     "output_type": "stream",
     "text": [
      "662 µs ± 72.5 µs per loop (mean ± std. dev. of 7 runs, 1000 loops each)\n"
     ]
    }
   ],
   "source": [
    "%%timeit\n",
    "np.std(As)"
   ]
  },
  {
   "cell_type": "code",
   "execution_count": null,
   "metadata": {},
   "outputs": [],
   "source": []
  }
 ],
 "metadata": {
  "kernelspec": {
   "display_name": "Python 3",
   "language": "python",
   "name": "python3"
  },
  "language_info": {
   "codemirror_mode": {
    "name": "ipython",
    "version": 3
   },
   "file_extension": ".py",
   "mimetype": "text/x-python",
   "name": "python",
   "nbconvert_exporter": "python",
   "pygments_lexer": "ipython3",
   "version": "3.6.8"
  }
 },
 "nbformat": 4,
 "nbformat_minor": 2
}

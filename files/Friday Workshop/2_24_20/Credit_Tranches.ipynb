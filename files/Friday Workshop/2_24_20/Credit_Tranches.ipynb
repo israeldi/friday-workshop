{
 "cells": [
  {
   "cell_type": "code",
   "execution_count": null,
   "metadata": {},
   "outputs": [],
   "source": [
    "import random\n",
    "from scipy.stats import norm\n",
    "from matplotlib.ticker import FormatStrFormatter\n",
    "import numpy as np\n",
    "import matplotlib.pyplot as plt\n",
    "\n",
    "# Constants\n",
    "EQUITY_INDEX_CUTOFFS = [0, 0.03, 0.07, 0.1, 0.15, 0.3, 1 ]\n",
    "# Parameters\n",
    "n = 1000 #names in credit index\n",
    "rho = 0.1\n",
    "num_sims = 1000\n",
    "prob_default = 0.25\n",
    "# For equity tranche 0-20%, mezzanine 20%-80%:\n",
    "# tranche_cutoffs = [0, 0.2, 1 ]\n",
    "tranche_cutoffs = EQUITY_INDEX_CUTOFFS\n",
    "tranche_to_watch = 4 #1 is equity, 2 mezz, etc\n",
    "\n",
    "# derived parameters\n",
    "z_score_of_default = norm.ppf(prob_default)\n",
    "beta = rho**0.5\n",
    "alpha = (1 -rho)**0.5\n",
    "# Look at 4th tranche\n",
    "max_defaults_protected = int(round(n * tranche_cutoffs[tranche_to_watch-1]))\n",
    "wiped_out_defaults = int(round(n * tranche_cutoffs[tranche_to_watch]))\n",
    "names_in_tranche = wiped_out_defaults - max_defaults_protected"
   ]
  },
  {
   "cell_type": "code",
   "execution_count": null,
   "metadata": {},
   "outputs": [],
   "source": [
    "# run simulation\n",
    "\n",
    "## YOUR CODE HERE ##"
   ]
  },
  {
   "cell_type": "code",
   "execution_count": null,
   "metadata": {},
   "outputs": [],
   "source": [
    "fig, ax = plt.subplots()\n",
    "ax.xaxis.set_major_formatter(FormatStrFormatter('%d'))\n",
    "binz = np.arange(-0.5, names_in_tranche + 1.5)\n",
    "plt.hist(names_remaining_in_tranche, bins = binz)\n",
    "\n",
    "plt.title('Names Left in Tranche ' + str(tranche_to_watch) + ' (' +\n",
    "          str(num_sims) + ' trials)')\n",
    "plt.xlabel('Value')\n",
    "plt.ylabel('Frequency')\n",
    "plt.show()"
   ]
  }
 ],
 "metadata": {
  "kernelspec": {
   "display_name": "Python 3",
   "language": "python",
   "name": "python3"
  },
  "language_info": {
   "codemirror_mode": {
    "name": "ipython",
    "version": 3
   },
   "file_extension": ".py",
   "mimetype": "text/x-python",
   "name": "python",
   "nbconvert_exporter": "python",
   "pygments_lexer": "ipython3",
   "version": "3.7.5"
  }
 },
 "nbformat": 4,
 "nbformat_minor": 2
}

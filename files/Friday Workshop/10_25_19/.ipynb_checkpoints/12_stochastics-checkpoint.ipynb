{
 "cells": [
  {
   "cell_type": "markdown",
   "metadata": {},
   "source": [
    "<img src=\"https://raw.githubusercontent.com/israeldi/quantlab/blob/master/assets/images/Program%20Logo%20for%20email%20signatures.png\" width=\"200px\" align=\"right\">\n",
    "\n",
    "# QuantLab: Stochastics\n",
    "### [(Go to Quant Lab)](https://israeldi.github.io/quantlab/)\n",
    "\n",
    "#### Source: Python for Finance (2nd ed.)\n",
    "\n",
    "**Mastering Data-Driven Finance**\n",
    "\n",
    "&copy; Dr. Yves J. Hilpisch | The Python Quants GmbH\n",
    "\n",
    "<img src=\"http://hilpisch.com/images/py4fi_2nd_shadow.png\" width=\"200px\" align=\"left\">"
   ]
  },
  {
   "cell_type": "markdown",
   "metadata": {},
   "source": [
    "### - [Link](https://drive.google.com/open?id=1Vhnq0LzJ-QOoKyUwyzMN4Pvh0w40IW0X) to textbook\n",
    "\n",
    "## Table of Contents\n",
    "\n",
    "1. [Random Numbers](#1.-Random-Numbers)\n",
    "2. [Plotting Random Samples](#2.-Plotting-Random-Samples)\n",
    "3. [Simulation](#3.-Simulation)\n",
    "    - 3.1 [Random Variables](#3.1-Random-Variables)\n",
    "    - 3.2 [Stochastic Processes](#3.2-Stochastic-Processes)\n",
    "        - 3.2.1 [Geometric Brownian Motion](#3.2.1-Geometric-Brownian-Motion)\n",
    "        - 3.2.2 [Square-Root Diffusion](#3.2.2-Square-Root-Diffusion)\n",
    "        - 3.2.3 [Stochastic Processes](#3.2-Stochastic-Processes)\n",
    "        - 3.2.4 [Stochastic Processes](#3.2-Stochastic-Processes)\n",
    "    - 3.3 [Variance Reduction](#3.3-Variance-Reduction)\n",
    "4. [Valuation](#4.-Valuation)\n",
    "    - 4.1 [European Options](#4.1-European-Options)\n",
    "    - 4.2 [American Options](#4.2-American-Options)\n",
    "5. [Risk Measures](#5.-Risk-Measures)\n",
    "    - 5.1 [Value-at-Risk](#5.1-Value-at-Risk)\n",
    "    - 5.2 [Credit Value Adjustments](#5.2-Credit-Value-Adjustments)\n"
   ]
  },
  {
   "cell_type": "markdown",
   "metadata": {},
   "source": [
    "Initially import all the modules we will be using for our notebook"
   ]
  },
  {
   "cell_type": "code",
   "execution_count": 1,
   "metadata": {},
   "outputs": [],
   "source": [
    "import math\n",
    "import numpy as np\n",
    "import numpy.random as npr  \n",
    "from pylab import plt, mpl\n",
    "import os"
   ]
  },
  {
   "cell_type": "code",
   "execution_count": 2,
   "metadata": {},
   "outputs": [],
   "source": [
    "plt.style.use('seaborn')\n",
    "mpl.rcParams['font.family'] = 'serif'\n",
    "%matplotlib inline"
   ]
  },
  {
   "cell_type": "code",
   "execution_count": 3,
   "metadata": {},
   "outputs": [],
   "source": [
    "# Directory where we will save our plots\n",
    "directory = \"./images\"\n",
    "if not os.path.exists(directory):\n",
    "    os.makedirs(directory)"
   ]
  },
  {
   "cell_type": "markdown",
   "metadata": {},
   "source": [
    "## 5. Risk Measures\n",
    "#### ([Back to Top](#Table-of-Contents))"
   ]
  },
  {
   "cell_type": "markdown",
   "metadata": {},
   "source": [
    "### 5.1 Value-at-Risk"
   ]
  },
  {
   "cell_type": "code",
   "execution_count": 4,
   "metadata": {},
   "outputs": [],
   "source": [
    "S0 = 100\n",
    "r = 0.05\n",
    "sigma = 0.25\n",
    "T = 30 / 365.\n",
    "I = 10000"
   ]
  },
  {
   "cell_type": "code",
   "execution_count": 5,
   "metadata": {
    "uuid": "5473289e-2301-40fb-a665-2d33d43ea09a"
   },
   "outputs": [],
   "source": [
    "ST = S0 * np.exp((r - 0.5 * sigma ** 2) * T +\n",
    "             sigma * np.sqrt(T) * npr.standard_normal(I))  "
   ]
  },
  {
   "cell_type": "code",
   "execution_count": 6,
   "metadata": {
    "uuid": "b2eed114-77e7-479b-b20b-d36a0ffbe636"
   },
   "outputs": [],
   "source": [
    "R_gbm = np.sort(ST - S0)  "
   ]
  },
  {
   "cell_type": "code",
   "execution_count": 328,
   "metadata": {
    "uuid": "b53e5254-96cc-4294-8ef7-76a2cf21cbca"
   },
   "outputs": [
    {
     "data": {
      "image/png": "[encoded data removed]",
      "text/plain": [
       "<Figure size 720x432 with 1 Axes>"
      ]
     },
     "metadata": {
      "needs_background": "light"
     },
     "output_type": "display_data"
    }
   ],
   "source": [
    "plt.figure(figsize=(10, 6))\n",
    "plt.hist(R_gbm, bins=50)\n",
    "plt.title('Absolute profits and losses from simulation (geometric Brownian motion)')\n",
    "plt.xlabel('absolute return')\n",
    "plt.ylabel('frequency');\n",
    "plt.savefig('./images/stoch_18.png');"
   ]
  },
  {
   "cell_type": "code",
   "execution_count": 329,
   "metadata": {},
   "outputs": [],
   "source": [
    "import warnings\n",
    "warnings.simplefilter('ignore')"
   ]
  },
  {
   "cell_type": "code",
   "execution_count": 330,
   "metadata": {
    "uuid": "768aa308-d5c2-4f5d-9936-c19c9321996a"
   },
   "outputs": [
    {
     "name": "stdout",
     "output_type": "stream",
     "text": [
      "Confidence Level    Value-at-Risk\n",
      "---------------------------------\n",
      "           99.99           21.814\n",
      "           99.90           18.837\n",
      "           99.00           15.230\n",
      "           97.50           12.816\n",
      "           95.00           10.824\n",
      "           90.00            8.504\n"
     ]
    }
   ],
   "source": [
    "percs = [0.01, 0.1, 1., 2.5, 5.0, 10.0]\n",
    "var = scs.scoreatpercentile(R_gbm, percs)\n",
    "print('%16s %16s' % ('Confidence Level', 'Value-at-Risk'))\n",
    "print(33 * '-')\n",
    "for pair in zip(percs, var):\n",
    "    print('%16.2f %16.3f' % (100 - pair[0], -pair[1]))"
   ]
  },
  {
   "cell_type": "code",
   "execution_count": 331,
   "metadata": {},
   "outputs": [],
   "source": [
    "dt = 30. / 365 / M\n",
    "rj = lamb * (math.exp(mu + 0.5 * delta ** 2) - 1)"
   ]
  },
  {
   "cell_type": "code",
   "execution_count": 332,
   "metadata": {
    "uuid": "b9952498-c4ad-4d5a-8d3c-3bce1d71006d"
   },
   "outputs": [],
   "source": [
    "S = np.zeros((M + 1, I))\n",
    "S[0] = S0\n",
    "sn1 = npr.standard_normal((M + 1, I))\n",
    "sn2 = npr.standard_normal((M + 1, I))\n",
    "poi = npr.poisson(lamb * dt, (M + 1, I))\n",
    "for t in range(1, M + 1, 1):\n",
    "    S[t] = S[t - 1] * (np.exp((r - rj - 0.5 * sigma ** 2) * dt\n",
    "                       + sigma * math.sqrt(dt) * sn1[t])\n",
    "                       + (np.exp(mu + delta * sn2[t]) - 1)\n",
    "                       * poi[t])\n",
    "    S[t] = np.maximum(S[t], 0)"
   ]
  },
  {
   "cell_type": "code",
   "execution_count": 333,
   "metadata": {
    "uuid": "37cfd26e-2c44-456a-8b8b-56cf10e12aac"
   },
   "outputs": [],
   "source": [
    "R_jd = np.sort(S[-1] - S0)"
   ]
  },
  {
   "cell_type": "code",
   "execution_count": 334,
   "metadata": {
    "uuid": "3300cad0-872b-45ef-9b12-3fc3507b2c54"
   },
   "outputs": [
    {
     "data": {
      "image/png": "[encoded data removed]",
      "text/plain": [
       "<Figure size 720x432 with 1 Axes>"
      ]
     },
     "metadata": {
      "needs_background": "light"
     },
     "output_type": "display_data"
    }
   ],
   "source": [
    "plt.figure(figsize=(10, 6))\n",
    "plt.hist(R_jd, bins=50)\n",
    "plt.xlabel('absolute return')\n",
    "plt.ylabel('frequency');\n",
    "plt.title('Absolute profits and losses from simulation (jump diffusion)')\n",
    "plt.savefig('./images/stoch_19.png');"
   ]
  },
  {
   "cell_type": "code",
   "execution_count": 335,
   "metadata": {
    "uuid": "8adcca19-77bf-4d8e-a342-1a5cc1cadd69"
   },
   "outputs": [
    {
     "name": "stdout",
     "output_type": "stream",
     "text": [
      "Confidence Level    Value-at-Risk\n",
      "---------------------------------\n",
      "           99.99           76.520\n",
      "           99.90           69.396\n",
      "           99.00           55.974\n",
      "           97.50           46.405\n",
      "           95.00           24.198\n",
      "           90.00            8.836\n"
     ]
    }
   ],
   "source": [
    "percs = [0.01, 0.1, 1., 2.5, 5.0, 10.0]\n",
    "var = scs.scoreatpercentile(R_jd, percs)\n",
    "print('%16s %16s' % ('Confidence Level', 'Value-at-Risk'))\n",
    "print(33 * '-')\n",
    "for pair in zip(percs, var):\n",
    "    print('%16.2f %16.3f' % (100 - pair[0], -pair[1]))"
   ]
  },
  {
   "cell_type": "code",
   "execution_count": 336,
   "metadata": {
    "uuid": "812884b3-c147-4799-8b7a-93eb62a9b1fc"
   },
   "outputs": [],
   "source": [
    "percs = list(np.arange(0.0, 10.1, 0.1))\n",
    "gbm_var = scs.scoreatpercentile(R_gbm, percs)\n",
    "jd_var = scs.scoreatpercentile(R_jd, percs)"
   ]
  },
  {
   "cell_type": "markdown",
   "metadata": {},
   "source": [
    "### 5.2 Credit Value Adjustments\n",
    "#### ([Back to Top](#Table-of-Contents))"
   ]
  },
  {
   "cell_type": "code",
   "execution_count": 74,
   "metadata": {},
   "outputs": [],
   "source": [
    "import random\n",
    "random.seed(0) \n",
    "\n",
    "S0 = 100.\n",
    "r = 0.05\n",
    "sigma = 0.2\n",
    "T = 1.\n",
    "I = 100000\n",
    "\n",
    "# Black-Scholes Model\n",
    "ST = S0 * np.exp((r - 0.5 * sigma ** 2) * T \n",
    "             + sigma * np.sqrt(T) * npr.standard_normal(I))\n",
    "\n",
    "# Loss Level\n",
    "L = 0.5\n",
    "\n",
    "# Probability of Default\n",
    "p = 0.01  \n",
    "\n",
    "# Simulate Default Events\n",
    "D = npr.poisson(p * T, I) "
   ]
  },
  {
   "cell_type": "code",
   "execution_count": 72,
   "metadata": {},
   "outputs": [
    {
     "data": {
      "text/plain": [
       "(array([9.9046e+04, 0.0000e+00, 0.0000e+00, 0.0000e+00, 0.0000e+00,\n",
       "        9.4800e+02, 0.0000e+00, 0.0000e+00, 0.0000e+00, 6.0000e+00]),\n",
       " array([0. , 0.2, 0.4, 0.6, 0.8, 1. , 1.2, 1.4, 1.6, 1.8, 2. ]),\n",
       " <a list of 10 Patch objects>)"
      ]
     },
     "execution_count": 72,
     "metadata": {},
     "output_type": "execute_result"
    },
    {
     "data": {
      "image/png": "[encoded data removed]",
      "text/plain": [
       "<Figure size 432x288 with 1 Axes>"
      ]
     },
     "metadata": {
      "needs_background": "light"
     },
     "output_type": "display_data"
    }
   ],
   "source": [
    "plt.hist(D)"
   ]
  },
  {
   "cell_type": "code",
   "execution_count": 78,
   "metadata": {},
   "outputs": [],
   "source": [
    "# Limits defaults to one such event.\n",
    "D = np.where(D > 1, 1, D)"
   ]
  },
  {
   "cell_type": "markdown",
   "metadata": {},
   "source": [
    "Without default, the risk-neutral value of the future index level should be equal to the current value of the\n",
    "asset today (up to differences resulting from numerical errors). The CVaR and the present value of the asset,\n",
    "adjusted for the credit risk, are given as follows:"
   ]
  },
  {
   "cell_type": "code",
   "execution_count": 83,
   "metadata": {
    "uuid": "46418aea-2253-4f09-840a-1c45676bda2c"
   },
   "outputs": [
    {
     "data": {
      "text/plain": [
       "99.98824027507536"
      ]
     },
     "execution_count": 83,
     "metadata": {},
     "output_type": "execute_result"
    }
   ],
   "source": [
    "# Discounted average simulated value of the asset at T\n",
    "math.exp(-r * T) * np.mean(ST) "
   ]
  },
  {
   "cell_type": "code",
   "execution_count": 84,
   "metadata": {
    "uuid": "46418aea-2253-4f09-840a-1c45676bda2c"
   },
   "outputs": [
    {
     "data": {
      "text/plain": [
       "0.5207921146158452"
      ]
     },
     "execution_count": 84,
     "metadata": {},
     "output_type": "execute_result"
    }
   ],
   "source": [
    "# CVaR as the discounted average of the future losses in the \n",
    "# case of a default\n",
    "CVaR = math.exp(-r * T) * np.mean(L * D * ST)  \n",
    "CVaR  "
   ]
  },
  {
   "cell_type": "code",
   "execution_count": 14,
   "metadata": {
    "uuid": "46418aea-2253-4f09-840a-1c45676bda2c"
   },
   "outputs": [
    {
     "data": {
      "text/plain": [
       "99.61385748321064"
      ]
     },
     "execution_count": 14,
     "metadata": {},
     "output_type": "execute_result"
    }
   ],
   "source": [
    "# Discounted average simulated value of the asset at T, adjusted for the simulated losses \n",
    "# from default.\n",
    "S0_CVA = math.exp(-r * T) * np.mean((1 - L * D) * ST)  \n",
    "S0_CVA  "
   ]
  },
  {
   "cell_type": "code",
   "execution_count": 15,
   "metadata": {
    "uuid": "46418aea-2253-4f09-840a-1c45676bda2c"
   },
   "outputs": [
    {
     "data": {
      "text/plain": [
       "99.51363360840696"
      ]
     },
     "execution_count": 15,
     "metadata": {},
     "output_type": "execute_result"
    }
   ],
   "source": [
    "# Current price of the asset adjusted by the simulated CVaR\n",
    "S0_adj = S0 - CVaR  \n",
    "S0_adj "
   ]
  },
  {
   "cell_type": "markdown",
   "metadata": {},
   "source": [
    "In this particular simulation example, one observes roughly 1,000 losses due to credit risk, which is to be\n",
    "expected given the assumed default probability of 1% and 100,000 simulated paths. Figure 12-21 shows the\n",
    "complete frequency distribution of the losses due to a default. Of course, in the large majority of cases (i.e.,\n",
    "in about 99,000 of the 100,000 cases) there is no loss to observe:"
   ]
  },
  {
   "cell_type": "code",
   "execution_count": 16,
   "metadata": {
    "uuid": "fc6e6717-9ffc-486c-a736-3892c277f3e6"
   },
   "outputs": [
    {
     "data": {
      "text/plain": [
       "981"
      ]
     },
     "execution_count": 16,
     "metadata": {},
     "output_type": "execute_result"
    }
   ],
   "source": [
    "# Number of default events and therewith loss events.\n",
    "np.count_nonzero(L * D * ST)"
   ]
  },
  {
   "cell_type": "code",
   "execution_count": 351,
   "metadata": {
    "uuid": "fc6e6717-9ffc-486c-a736-3892c277f3e6"
   },
   "outputs": [
    {
     "data": {
      "image/png": "[encoded data removed]",
      "text/plain": [
       "<Figure size 720x432 with 1 Axes>"
      ]
     },
     "metadata": {
      "needs_background": "light"
     },
     "output_type": "display_data"
    }
   ],
   "source": [
    "plt.figure(figsize=(10, 6))\n",
    "plt.hist(L * D * ST, bins=50)\n",
    "plt.title('Losses due to risk-neutrally expected default (stock)')\n",
    "plt.xlabel('loss')\n",
    "plt.ylabel('frequency')\n",
    "plt.ylim(ymax=175);\n",
    "plt.savefig('./images/stoch_21.png');"
   ]
  },
  {
   "cell_type": "markdown",
   "metadata": {},
   "source": [
    "Consider now the case of a European call option. Its value is about 10.4 currency units at a strike of 100.\n",
    "The CVaR is about 5 cents given the same assumptions with regard to probability of default and loss level:"
   ]
  },
  {
   "cell_type": "code",
   "execution_count": 18,
   "metadata": {},
   "outputs": [
    {
     "data": {
      "text/plain": [
       "10.529860685392606"
      ]
     },
     "execution_count": 18,
     "metadata": {},
     "output_type": "execute_result"
    }
   ],
   "source": [
    "K = 100.\n",
    "hT = np.maximum(ST - K, 0)\n",
    "\n",
    "# The Monte Carlo estimator value for the European call option.\n",
    "C0 = math.exp(-r * T) * np.mean(hT)  \n",
    "C0  "
   ]
  },
  {
   "cell_type": "code",
   "execution_count": 19,
   "metadata": {},
   "outputs": [
    {
     "data": {
      "text/plain": [
       "0.04760136691503271"
      ]
     },
     "execution_count": 19,
     "metadata": {},
     "output_type": "execute_result"
    }
   ],
   "source": [
    "# The CVaR as the discounted average of the future losses in \n",
    "# the case of a default.\n",
    "CVaR = math.exp(-r * T) * np.mean(L * D * hT)  \n",
    "CVaR  "
   ]
  },
  {
   "cell_type": "code",
   "execution_count": 20,
   "metadata": {},
   "outputs": [
    {
     "data": {
      "text/plain": [
       "10.48225931847757"
      ]
     },
     "execution_count": 20,
     "metadata": {},
     "output_type": "execute_result"
    }
   ],
   "source": [
    "# The Monte Carlo estimator value for the European call option, \n",
    "# adjusted for the simulated losses from default.\n",
    "C0_CVA = math.exp(-r * T) * np.mean((1 - L * D) * hT)  \n",
    "C0_CVA  "
   ]
  },
  {
   "cell_type": "markdown",
   "metadata": {},
   "source": [
    "Compared to the case of a regular asset, the option case has somewhat different characteristics. One only\n",
    "sees a little more than 500 losses due to a default, although there are again 1,000 defaults in total. This\n",
    "results from the fact that the payoff of the option at maturity has a high probability of being zero. Figure 12-\n",
    "22 shows that the CVaR for the option has quite a different frequency distribution compared to the regular\n",
    "asset case:"
   ]
  },
  {
   "cell_type": "code",
   "execution_count": 21,
   "metadata": {
    "uuid": "a221dbb8-eec3-45e1-abd7-146050c0285f"
   },
   "outputs": [
    {
     "data": {
      "text/plain": [
       "539"
      ]
     },
     "execution_count": 21,
     "metadata": {},
     "output_type": "execute_result"
    }
   ],
   "source": [
    "# The number of losses due to default.\n",
    "np.count_nonzero(L * D * hT) "
   ]
  },
  {
   "cell_type": "code",
   "execution_count": 22,
   "metadata": {
    "uuid": "a221dbb8-eec3-45e1-abd7-146050c0285f"
   },
   "outputs": [
    {
     "data": {
      "text/plain": [
       "981"
      ]
     },
     "execution_count": 22,
     "metadata": {},
     "output_type": "execute_result"
    }
   ],
   "source": [
    "# The number of defaults.\n",
    "np.count_nonzero(D)  "
   ]
  },
  {
   "cell_type": "code",
   "execution_count": 23,
   "metadata": {
    "uuid": "a221dbb8-eec3-45e1-abd7-146050c0285f"
   },
   "outputs": [
    {
     "data": {
      "text/plain": [
       "43886"
      ]
     },
     "execution_count": 23,
     "metadata": {},
     "output_type": "execute_result"
    }
   ],
   "source": [
    "# The number of cases for which the option expires worthless.\n",
    "I - np.count_nonzero(hT) "
   ]
  },
  {
   "cell_type": "code",
   "execution_count": 24,
   "metadata": {
    "uuid": "b132d24e-093b-45e6-a4cc-29b8ef006038"
   },
   "outputs": [
    {
     "data": {
      "image/png": "[encoded data removed]",
      "text/plain": [
       "<Figure size 720x432 with 1 Axes>"
      ]
     },
     "metadata": {
      "needs_background": "light"
     },
     "output_type": "display_data"
    }
   ],
   "source": [
    "plt.figure(figsize=(10, 6))\n",
    "plt.hist(L * D * hT, bins=50)\n",
    "plt.title('Losses due to risk-neutrally expected default (call option)')\n",
    "plt.xlabel('loss')\n",
    "plt.ylabel('frequency')\n",
    "plt.ylim(ymax=350);\n",
    "plt.savefig('./images/stoch_22.png');"
   ]
  },
  {
   "cell_type": "markdown",
   "metadata": {},
   "source": [
    "<a href=\"http://tpq.io\" target=\"_blank\">http://tpq.io</a> | <a href=\"http://twitter.com/dyjh\" target=\"_blank\">@dyjh</a> | <a href=\"mailto:training@tpq.io\">training@tpq.io</a>"
   ]
  }
 ],
 "metadata": {
  "anaconda-cloud": {},
  "kernelspec": {
   "display_name": "Python 3",
   "language": "python",
   "name": "python3"
  },
  "language_info": {
   "codemirror_mode": {
    "name": "ipython",
    "version": 3
   },
   "file_extension": ".py",
   "mimetype": "text/x-python",
   "name": "python",
   "nbconvert_exporter": "python",
   "pygments_lexer": "ipython3",
   "version": "3.6.8"
  }
 },
 "nbformat": 4,
 "nbformat_minor": 1
}

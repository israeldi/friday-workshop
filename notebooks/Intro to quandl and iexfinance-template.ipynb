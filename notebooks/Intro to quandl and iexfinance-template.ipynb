{
 "cells": [
  {
   "cell_type": "markdown",
   "metadata": {},
   "source": [
    "# Intro to quandl and iexfinance\n",
    "\n",
    "Let's get started reading market data into a `pandas` dataframe.\n",
    "\n",
    "1. Install [quandl](https://docs.quandl.com/docs/python-installation).\n",
    "2. [Create a quandl account](https://www.quandl.com/sign-up-modal?defaultModal=showSignUp). \n",
    "3. Get a [quandl API Key](https://www.quandl.com/account/profile).\n",
    "4. Read the [quandl documentation](https://www.quandl.com/docs-and-help) to find a free dataset. \n",
    "5. Figure out how to retrieve 2017 AAPL closing stock prices, and view using `tail`.\n"
   ]
  },
  {
   "cell_type": "code",
   "execution_count": 1,
   "metadata": {
    "collapsed": true
   },
   "outputs": [],
   "source": [
    "import numpy as np\n",
    "import quandl\n",
    "\n",
    "# quandl.ApiConfig.api_key = 'fill in your API key'\n"
   ]
  },
  {
   "cell_type": "markdown",
   "metadata": {},
   "source": [
    "But wait a minute: if you used WIKI, note that the [WIKI data source is no longer supported by the community](https://www.quandl.com/databases/WIKIP). A little searching suggests IEXFinance, which has an API, and there is a [python library](https://pypi.org/project/iexfinance/)."
   ]
  },
  {
   "cell_type": "code",
   "execution_count": 3,
   "metadata": {
    "collapsed": true
   },
   "outputs": [],
   "source": [
    "import iexfinance as iex\n",
    "from datetime import datetime\n",
    "\n",
    "# start = datetime(2017, 1, 1)\n",
    "# end = datetime(2017, 12, 31)\n",
    "\n",
    "# aapl_dataframe = iex.get_historical_data(...)\n",
    "# aapl_dataframe.tail()"
   ]
  },
  {
   "cell_type": "markdown",
   "metadata": {},
   "source": [
    "Do something interesting with the data. Do the returns look normally distributed?\n",
    "\n",
    "1. Extract the adjusted close prices. \n",
    "2. Use numpy's `log` and pandas `shift` functions to compute returns. \n",
    "3. Use matplotlib.pyplot and scipy.stats to create a histogram and probability plot for AAPL stock returns."
   ]
  },
  {
   "cell_type": "code",
   "execution_count": 6,
   "metadata": {
    "collapsed": true
   },
   "outputs": [],
   "source": [
    "import matplotlib.pyplot as plt\n",
    "import scipy.stats as stats\n",
    "\n",
    "aapl_close_series = aapl_dataframe['close']\n",
    "\n",
    "def returns(time_series):\n",
    "    pass\n",
    "\n",
    "r = returns(aapl_close_series)\n",
    "\n",
    "def plot_hist_pp(returns_time_series):\n",
    "    fig, (histo, qq) = plt.subplots(1, 2, figsize=(12, 4))\n",
    "    # create a histogram with 20 bins, a title, and labeled axes\n",
    "    histo.hist(...)\n",
    "    \n",
    "    # create a probability plot \n",
    "    stats.probplot(...)\n",
    "    plt.show()\n",
    "    \n",
    "plot_hist_pp(r)"
   ]
  },
  {
   "cell_type": "markdown",
   "metadata": {},
   "source": [
    "Now, let's look at the EUR/USD exchange rate."
   ]
  },
  {
   "cell_type": "code",
   "execution_count": 2,
   "metadata": {},
   "outputs": [],
   "source": [
    "# eur_usd_df = quandl.get(...)\n",
    "# plot_hist_pp(returns(eur_usd_df['Settle']))"
   ]
  },
  {
   "cell_type": "markdown",
   "metadata": {},
   "source": [
    "Finally, let's look at US Treasury data for 2017. Let's start with one year treasury rates. From quandl, figure out which dataset to use. "
   ]
  },
  {
   "cell_type": "code",
   "execution_count": 7,
   "metadata": {
    "collapsed": true
   },
   "outputs": [],
   "source": [
    "ust_df = ..."
   ]
  },
  {
   "cell_type": "markdown",
   "metadata": {},
   "source": [
    "Now, let's graph it as before. What happens? How can we fix it?"
   ]
  },
  {
   "cell_type": "code",
   "execution_count": 1,
   "metadata": {},
   "outputs": [],
   "source": [
    "# one_year_ust_series = ...\n",
    "        \n",
    "# plot_hist_pp(returns(one_year_ust_series))"
   ]
  },
  {
   "cell_type": "markdown",
   "metadata": {},
   "source": [
    "So, we got rid of the spurious zero in the interest rates. But is that the best way to fix it? Can interest rates be zero, or negative? For our other securities, we modeled the return on *prices*. Let's do the same here."
   ]
  },
  {
   "cell_type": "code",
   "execution_count": null,
   "metadata": {
    "collapsed": true
   },
   "outputs": [],
   "source": []
  }
 ],
 "metadata": {
  "kernelspec": {
   "display_name": "Python 3",
   "language": "python",
   "name": "python3"
  },
  "language_info": {
   "codemirror_mode": {
    "name": "ipython",
    "version": 3
   },
   "file_extension": ".py",
   "mimetype": "text/x-python",
   "name": "python",
   "nbconvert_exporter": "python",
   "pygments_lexer": "ipython3",
   "version": "3.6.1"
  }
 },
 "nbformat": 4,
 "nbformat_minor": 2
}

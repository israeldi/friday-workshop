{
 "cells": [
  {
   "cell_type": "markdown",
   "metadata": {},
   "source": [
    "# Building a yield curve using US Treasury constant maturity data\n",
    "\n",
    "We learned how to build curves via zero yields from the US Treasury data. Now we are going to pull prices for all maturities from [quandl](https://www.quandl.com/data/FRED-Federal-Reserve-Economic-Data/documentation/data-organization), and use that data to build functions that can price zero coupon bonds of any maturity less than the longest dated treasury. First, though, we copy some of the code we used for boostrapping from Treasury bills."
   ]
  },
  {
   "cell_type": "code",
   "execution_count": 5,
   "metadata": {},
   "outputs": [],
   "source": [
    "import pandas as pd\n",
    "import numpy as np\n",
    "import matplotlib.pyplot as plt\n",
    "import scipy.stats as stats\n",
    "import quandl\n",
    "\n",
    "quandl.ApiConfig.api_key = 'FA6wt7Na6c5FdbqM96i4'\n",
    "ust_df = quandl.get('USTREASURY/BILLRATES', start_date='2017-01-01', end_date='2017-12-31')\n",
    "# Drop the columns we don't want\n",
    "for col in list(ust_df):\n",
    "    if (col.find('Coupon Equiv') == -1):\n",
    "        ust_df.drop([col], axis=1, inplace=True)\n",
    "ust_df.drop(['8 Wk Coupon Equiv'], axis=1, inplace=True)"
   ]
  },
  {
   "cell_type": "markdown",
   "metadata": {},
   "source": [
    "I noticed that the quandl data seems to have fewer maturity points than the [St. Louis FRED data](https://www.treasury.gov/resource-center/data-chart-center/interest-rates/Pages/TextView.aspx?data=yield). So let's try adding some points."
   ]
  },
  {
   "cell_type": "code",
   "execution_count": 7,
   "metadata": {},
   "outputs": [
    {
     "data": {
      "text/html": [
       "<div>\n",
       "<style scoped>\n",
       "    .dataframe tbody tr th:only-of-type {\n",
       "        vertical-align: middle;\n",
       "    }\n",
       "\n",
       "    .dataframe tbody tr th {\n",
       "        vertical-align: top;\n",
       "    }\n",
       "\n",
       "    .dataframe thead th {\n",
       "        text-align: right;\n",
       "    }\n",
       "</style>\n",
       "<table border=\"1\" class=\"dataframe\">\n",
       "  <thead>\n",
       "    <tr style=\"text-align: right;\">\n",
       "      <th></th>\n",
       "      <th>FRED/DGS2 - Value</th>\n",
       "      <th>FRED/DGS3 - Value</th>\n",
       "      <th>FRED/DGS5 - Value</th>\n",
       "      <th>FRED/DGS7 - Value</th>\n",
       "      <th>FRED/DGS10 - Value</th>\n",
       "      <th>FRED/DGS20 - Value</th>\n",
       "      <th>FRED/DGS30 - Value</th>\n",
       "    </tr>\n",
       "    <tr>\n",
       "      <th>Date</th>\n",
       "      <th></th>\n",
       "      <th></th>\n",
       "      <th></th>\n",
       "      <th></th>\n",
       "      <th></th>\n",
       "      <th></th>\n",
       "      <th></th>\n",
       "    </tr>\n",
       "  </thead>\n",
       "  <tbody>\n",
       "    <tr>\n",
       "      <th>2017-12-22</th>\n",
       "      <td>1.91</td>\n",
       "      <td>2.01</td>\n",
       "      <td>2.26</td>\n",
       "      <td>2.40</td>\n",
       "      <td>2.48</td>\n",
       "      <td>2.68</td>\n",
       "      <td>2.83</td>\n",
       "    </tr>\n",
       "    <tr>\n",
       "      <th>2017-12-26</th>\n",
       "      <td>1.92</td>\n",
       "      <td>2.02</td>\n",
       "      <td>2.25</td>\n",
       "      <td>2.38</td>\n",
       "      <td>2.47</td>\n",
       "      <td>2.66</td>\n",
       "      <td>2.82</td>\n",
       "    </tr>\n",
       "    <tr>\n",
       "      <th>2017-12-27</th>\n",
       "      <td>1.89</td>\n",
       "      <td>1.99</td>\n",
       "      <td>2.22</td>\n",
       "      <td>2.34</td>\n",
       "      <td>2.42</td>\n",
       "      <td>2.59</td>\n",
       "      <td>2.75</td>\n",
       "    </tr>\n",
       "    <tr>\n",
       "      <th>2017-12-28</th>\n",
       "      <td>1.91</td>\n",
       "      <td>2.00</td>\n",
       "      <td>2.23</td>\n",
       "      <td>2.36</td>\n",
       "      <td>2.43</td>\n",
       "      <td>2.60</td>\n",
       "      <td>2.75</td>\n",
       "    </tr>\n",
       "    <tr>\n",
       "      <th>2017-12-29</th>\n",
       "      <td>1.89</td>\n",
       "      <td>1.98</td>\n",
       "      <td>2.20</td>\n",
       "      <td>2.33</td>\n",
       "      <td>2.40</td>\n",
       "      <td>2.58</td>\n",
       "      <td>2.74</td>\n",
       "    </tr>\n",
       "  </tbody>\n",
       "</table>\n",
       "</div>"
      ],
      "text/plain": [
       "            FRED/DGS2 - Value  FRED/DGS3 - Value  FRED/DGS5 - Value  \\\n",
       "Date                                                                  \n",
       "2017-12-22               1.91               2.01               2.26   \n",
       "2017-12-26               1.92               2.02               2.25   \n",
       "2017-12-27               1.89               1.99               2.22   \n",
       "2017-12-28               1.91               2.00               2.23   \n",
       "2017-12-29               1.89               1.98               2.20   \n",
       "\n",
       "            FRED/DGS7 - Value  FRED/DGS10 - Value  FRED/DGS20 - Value  \\\n",
       "Date                                                                    \n",
       "2017-12-22               2.40                2.48                2.68   \n",
       "2017-12-26               2.38                2.47                2.66   \n",
       "2017-12-27               2.34                2.42                2.59   \n",
       "2017-12-28               2.36                2.43                2.60   \n",
       "2017-12-29               2.33                2.40                2.58   \n",
       "\n",
       "            FRED/DGS30 - Value  \n",
       "Date                            \n",
       "2017-12-22                2.83  \n",
       "2017-12-26                2.82  \n",
       "2017-12-27                2.75  \n",
       "2017-12-28                2.75  \n",
       "2017-12-29                2.74  "
      ]
     },
     "execution_count": 7,
     "metadata": {},
     "output_type": "execute_result"
    }
   ],
   "source": [
    "# get all the data\n",
    "maturities = [2, 3, 5, 7, 10, 20, 30]\n",
    "columns = ['FRED/DGS'+str(i) for i in maturities]\n",
    "ust_cm_df = quandl.get(columns, start_date='2017-01-01', end_date='2017-12-31')\n",
    "ust_cm_df.tail()"
   ]
  },
  {
   "cell_type": "markdown",
   "metadata": {},
   "source": [
    "Now, we already had a RateTermStructure object. However, it was built from zeroes. The FRED data is for constant maturity par bonds. We will need to modify our class to build the first part of the curve from zero coupon bills, and the rest from constant maturity bonds. \n",
    "\n",
    "For a par bond with coupon rate $c$, paid semi-anuually, maturing at integer-valued $m$, and zero discount rate $z(t)$, the discounted cash flows are\n",
    "\n",
    "$1 = \\frac{c}{2} (e^{-z(0.5)} + e^{-z(1)}+ e^{-z(1.5)}+...+e^{-z(m )}) + e^{-z(m)} $.\n",
    "\n",
    "The whole point of this is to find the zero rate function, which we know for the Treasury bills. For the bonds, we will assume as before that the forward rate curve is piecewise flat between maturities. We can divide the cash flows into those for which the forward rate is known (say maturity at most $m^*$, and those for which we need to compute the forward rate $f$.\n",
    "\n",
    "$1 = \\frac{c}{2} (e^{-z(0.5)} + e^{-z(1)}+ e^{-z(1.5)}+...+e^{-z(m^*)}) + \\frac{c}{2} (e^{-z(m^*) - 0.5f} + e^{-z(m^*) - f}+ ...+e^{-z(m^*) - (m-m^*)f}) + e^{-z(m^*) - (m-m^*)f} $.\n",
    "\n",
    "We can gather up the coupons that don't involve $f$ into a constant $C$:\n",
    "\n",
    "$C = \\frac{c}{2} (e^{-z(0.5)} + e^{-z(1)}+ e^{-z(1.5)}+...+e^{-z(m^*)})$.\n",
    "\n",
    "Denoting $x=e^{-f/2}$, we can rewrite our cash equation as\n",
    "\n",
    "$1 =  C + \\frac{c}{2} e^{-z(m^*)}(x + x^2 + ... + x^{2(m - m^*)})) + e^{-z(m^*)}x^{2(m - m^*)}$ \n",
    "\n",
    "which we can rearrange to give\n",
    "\n",
    "$(\\frac{2}{c}+1)x^{2(m - m^*)} + x^{2(m - m^*)-1}+...+ x^3 + x^2 + x^1 + \\frac{2}{c}(C - 1) e^{z(m^*)} = 0$ \n",
    "\n",
    "Conveniently, numpy has an API for solving polynomial equations. Let's test it for solving $x^2+x - 12 = 0$:"
   ]
  },
  {
   "cell_type": "code",
   "execution_count": 11,
   "metadata": {},
   "outputs": [
    {
     "name": "stdout",
     "output_type": "stream",
     "text": [
      "[-4.  3.]\n"
     ]
    }
   ],
   "source": [
    "import numpy as np\n",
    "coeffs = [1, 1, -12]\n",
    "print(np.roots(coeffs))"
   ]
  },
  {
   "cell_type": "markdown",
   "metadata": {},
   "source": [
    "OK, we can get roots. Let's solve a fake coupon problem to see if we get a reasonable answer."
   ]
  },
  {
   "cell_type": "code",
   "execution_count": 68,
   "metadata": {},
   "outputs": [
    {
     "name": "stdout",
     "output_type": "stream",
     "text": [
      "[0.5 1. ]\n",
      "[0.047561471225035706, 0.04524187090179798]\n",
      "0.0928033421268337\n",
      "[-1.00127106  0.95365201]\n",
      "0.09491288819655205\n",
      "[0.8629000218914274, 0.8229063397891383]\n"
     ]
    },
    {
     "data": {
      "text/plain": [
       "1.0000000000000002"
      ]
     },
     "execution_count": 68,
     "metadata": {},
     "output_type": "execute_result"
    }
   ],
   "source": [
    "m = 2\n",
    "m_star = 1\n",
    "c = 0.1\n",
    "f = c # let's assume forward rate matches coupon,\n",
    "# times of cash flows between m_star and m\n",
    "times = np.arange(0.5, m_star + 0.1, 0.5)\n",
    "print(times)\n",
    "disc_flows = [c/2 * np.exp(-t * f ) for t in times]\n",
    "print(disc_flows)\n",
    "C_ = np.sum(disc_flows)\n",
    "print(C_)\n",
    "z_of_m_star = f * m_star\n",
    "coeffs = [1] * (2 * (m - m_star)+1)\n",
    "coeffs[0] = 2 / c + 1\n",
    "coeffs[-1] = 2/ c * ( C_ - 1) * np.exp(z_of_m_star)\n",
    "roots = np.roots(coeffs)\n",
    "print(roots)\n",
    "f = -2 * np.log(roots[-1])\n",
    "print(f)\n",
    "# test f\n",
    "more_discounts = [ np.exp(-z_of_m_star - f * (t-m_star)) for t in np.arange(m_star + 0.5, m + 0.1, 0.5)]\n",
    "print(more_discounts)\n",
    "\n",
    "C_ + c/2 * np.sum(more_discounts) + more_discounts[-1]"
   ]
  },
  {
   "cell_type": "markdown",
   "metadata": {},
   "source": []
  }
 ],
 "metadata": {
  "kernelspec": {
   "display_name": "Python 3",
   "language": "python",
   "name": "python3"
  },
  "language_info": {
   "codemirror_mode": {
    "name": "ipython",
    "version": 3
   },
   "file_extension": ".py",
   "mimetype": "text/x-python",
   "name": "python",
   "nbconvert_exporter": "python",
   "pygments_lexer": "ipython3",
   "version": "3.6.5"
  }
 },
 "nbformat": 4,
 "nbformat_minor": 2
}

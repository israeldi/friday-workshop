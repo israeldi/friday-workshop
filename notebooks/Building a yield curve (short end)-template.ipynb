{
 "cells": [
  {
   "cell_type": "markdown",
   "metadata": {},
   "source": [
    "# Building a yield curve using US Treasury T-bill data\n",
    "\n",
    "In the *Intro to quandl and iexfinance* notebook, we learned how to pull US Treasury data from the US Federal Reserve bank site. We are going to pull prices for T-bills out to 52 weeks maturity, and use that data to build functions that can price a zero coupon with any maturity less than a year.\n",
    "\n",
    "Here we copy some useful bits of that notebook, and tweak the plot function to plot interest rates."
   ]
  },
  {
   "cell_type": "code",
   "execution_count": 2,
   "metadata": {},
   "outputs": [],
   "source": [
    "import pandas as pd\n",
    "import numpy as np\n",
    "import matplotlib.pyplot as plt\n",
    "import scipy.stats as stats\n",
    "import quandl\n",
    "\n",
    "# replace YOUR_API_KEY with key from https://www.quandl.com/account/profile\n",
    "quandl.ApiConfig.api_key = 'FA6wt7Na6c5FdbqM96i4'\n",
    "\n",
    "def plot_interest_rates_pp(time_series):\n",
    "    fig, (histo, qq) = plt.subplots(1, 2, figsize=(12, 4))\n",
    "    histo.hist(time_series, bins = 20)\n",
    "    histo.set_title('Distribution of rates')\n",
    "    histo.set_xlabel('rate')\n",
    "    histo.set_ylabel('frequency')\n",
    "    stats.probplot(time_series, dist='norm', plot=plt)\n",
    "    plt.show()"
   ]
  },
  {
   "cell_type": "code",
   "execution_count": 15,
   "metadata": {},
   "outputs": [
    {
     "data": {
      "image/png": "[encoded data removed]",
      "text/plain": [
       "<Figure size 864x288 with 2 Axes>"
      ]
     },
     "metadata": {},
     "output_type": "display_data"
    }
   ],
   "source": [
    "# get quandl 2017 data from USTREASURY/BILLRATES\n",
    "ust_df = quandl.get('USTREASURY/BILLRATES', start_date='2017-01-01', end_date='2017-12-31')\n",
    "\n",
    "# Print a list of columns. Which columns do we want?\n",
    "# list(ust_df)\n",
    "\n",
    "# Drop the columns we don't want\n",
    "for col in list(ust_df):\n",
    "    if (col.find('Coupon Equiv') == -1):\n",
    "        ust_df.drop([col], axis=1, inplace=True)\n",
    "ust_df.drop(['8 Wk Coupon Equiv'], axis=1, inplace=True)\n",
    "ust_df.tail()\n",
    "        \n",
    "# Plot the one year series to visually check for any data anomalies. Make corrections.\n",
    "one_year_ust_series = ust_df['52 Wk Coupon Equiv']\n",
    "one_year_ust_series.tail()\n",
    "\n",
    "one_year_ust_series = one_year_ust_series[one_year_ust_series > 0]\n",
    "plot_interest_rates_pp(one_year_ust_series)"
   ]
  },
  {
   "cell_type": "markdown",
   "metadata": {},
   "source": [
    "We would like some longer maturity data, but we can attend to that later. We have enough data to start modeling. Treasury bills have no coupon. The purchase price is a percentage of face value. The coupon equivalent represents the annual yield the holder earns. The price $p$ and coupon equivalent $c$ [are related as follows](https://www.investopedia.com/terms/c/couponequivalentrate.asp):\n",
    "\n",
    "$ c = \\frac{1-p}{p} \\frac{y}{m} $\n",
    "\n",
    "where $y$ is the number of days in the year ([365 or 366](https://www.treasury.gov/resource-center/data-chart-center/interest-rates/Pages/TextView.aspx?data=billrates)), and $m$ is the number of days to maturity. We want to convert the coupon yield to a continuously compounded rate $r$, which we can get from the price. So we solve for $p$:\n",
    "\n",
    "$ p = \\frac{1}{1 + c \\frac{m}{365}}$\n",
    "\n",
    "Since $p=e^{-rt}$, and $t = \\frac{m}{y}$, we have $r = -\\frac{\\ln p}{m/y}$."
   ]
  },
  {
   "cell_type": "code",
   "execution_count": 16,
   "metadata": {},
   "outputs": [
    {
     "name": "stdout",
     "output_type": "stream",
     "text": [
      "0.9908784884352263\n"
     ]
    }
   ],
   "source": [
    "def price(coupon_equiv, maturity):\n",
    "    return 1 / (1 + coupon_equiv * maturity / 365)\n",
    "\n",
    "print(price(0.12, 28))"
   ]
  },
  {
   "cell_type": "code",
   "execution_count": 46,
   "metadata": {},
   "outputs": [
    {
     "name": "stdout",
     "output_type": "stream",
     "text": [
      "0.021981456477085673\n"
     ]
    }
   ],
   "source": [
    "import math\n",
    "def rate(price, maturity_in_days):\n",
    "    return -math.log(price) / (maturity_in_days / 365)\n",
    "print(rate(price(0.022, 28), 28))"
   ]
  },
  {
   "cell_type": "markdown",
   "metadata": {},
   "source": [
    "Buying a holding a note to maturity is equivalent to constantly investing at the instantaneous forward rate. So $rt = \\int_0^t f(s) ds$. Of course, we can't observe $f(t)$. But if we assume that it is piecewise flat, then we can determine $f(t)$ for all $t$ up to the maximum maturity of our zeroes. \n",
    "\n",
    "Let $t_0=0$, and let $t_1 < ... < t_n$ be the maturities of the zeroes. Define $f_i$ to be the instantaneous forward rate on $(t_{i-1}, t_i]$.\n",
    "\n",
    "If we define $r_i$ to be the continuously compounded rate to time $t_i$, then $r_i t_i =r_{i-1}t_{i-1} + f_i(t_i-t_{i-1})$. Hence $f_i = \\frac{r_i t_i - r_{i-1}t_{i-1}}{t_i-t_{i-1}}$.\n",
    "\n",
    "To model this, we create a term structure object."
   ]
  },
  {
   "cell_type": "code",
   "execution_count": 28,
   "metadata": {},
   "outputs": [
    {
     "name": "stdout",
     "output_type": "stream",
     "text": [
      "[' 0.08->0.0052', ' 0.25->0.0055', ' 0.50->0.0076', ' 1.00->0.0113']\n"
     ]
    },
    {
     "data": {
      "text/plain": [
       "0.007600000000000001"
      ]
     },
     "execution_count": 28,
     "metadata": {},
     "output_type": "execute_result"
    }
   ],
   "source": [
    "class RateTermStructure:\n",
    "    def __init__(self, maturity_list, zero_rate_list):\n",
    "        self.times_in_years = list(maturity_list)\n",
    "        self.zero_rates = list(zero_rate_list)\n",
    "        self.forward_rates = []\n",
    "        r_previous = 0\n",
    "        t_previous = 0\n",
    "        for t, r in zip(self.times_in_years, self.zero_rates):\n",
    "            self.forward_rates.append( (r * t - r_previous * t_previous) / (t - t_previous))\n",
    "            r_previous = r\n",
    "            t_previous = t\n",
    "            \n",
    "    def format_rate(self, x):\n",
    "        return '{:{width}.{prec}f}'.format(x, width=6, prec=4)\n",
    "            \n",
    "\n",
    "    def format_time(self, x):\n",
    "        return '{:{width}.{prec}f}'.format(x, width=5, prec=2)\n",
    "    \n",
    "    def forward_rate_cc(self, years):\n",
    "        for t, r in zip(self.times_in_years, self.forward_rates):\n",
    "            if t > years:\n",
    "                return r\n",
    "        return float('nan')     \n",
    "\n",
    "    \n",
    "    def zero_rate_cc(self, years):\n",
    "        if years == 0:\n",
    "            return self.forward_rates[0]\n",
    "        # accumulate rate\n",
    "        rate = 0\n",
    "        t_previous = 0\n",
    "        for t, r in zip(self.times_in_years, self.forward_rates):\n",
    "            if t < years:\n",
    "                rate += r * (t - t_previous)\n",
    "            else:\n",
    "                return (rate + r * (years - t_previous)) / years\n",
    "            t_previous = t\n",
    "        return float('nan')     \n",
    "\n",
    "\n",
    "    def __repr__(self):\n",
    "        return str([self.format_time(t)+'->'+self.format_rate(f) for t, f in zip(self.times_in_years,self.forward_rates )])\n",
    "\n",
    "# create a list of maturity times (in years)\n",
    "weeks = [4, 13, 26, 52]\n",
    "times =  [ 7 * w / 365.0 for w in weeks ]\n",
    "# pick a date for testing purposes\n",
    "# print(times)\n",
    "date = ust_df.index[0]\n",
    "# print(date)\n",
    "# extract rates for that date\n",
    "zero_rates = [0.01 * ust_df[col][date] for col in list(ust_df)]\n",
    "# print(zero_rates)\n",
    "rts = RateTermStructure(times, zero_rates)\n",
    "print(rts)\n",
    "# test forward rate\n",
    "rts.forward_rate_cc(0.49)"
   ]
  },
  {
   "cell_type": "markdown",
   "metadata": {},
   "source": [
    "Let's graph the instantaneous forward and zero curves."
   ]
  },
  {
   "cell_type": "code",
   "execution_count": 29,
   "metadata": {},
   "outputs": [
    {
     "data": {
      "text/plain": [
       "[<matplotlib.lines.Line2D at 0x1a1e307b38>]"
      ]
     },
     "execution_count": 29,
     "metadata": {},
     "output_type": "execute_result"
    },
    {
     "data": {
      "image/png": "[encoded data removed]",
      "text/plain": [
       "<Figure size 432x288 with 1 Axes>"
      ]
     },
     "metadata": {},
     "output_type": "display_data"
    }
   ],
   "source": [
    "import matplotlib.pyplot as plt\n",
    "\n",
    "# use numpy to create a range of numbers from 0 to 1\n",
    "times = np.arange(0, 1, 0.005)\n",
    "# compute flat forward rates, and zero rates for those times\n",
    "ffr = [rts.forward_rate_cc(t) for t in times]\n",
    "zero_rates = [rts.zero_rate_cc(t) for t in times]\n",
    "\n",
    "# plot it\n",
    "plt.plot(times, ffr, 'bo', markersize=2)\n",
    "plt.plot(times, zero_rates)"
   ]
  },
  {
   "cell_type": "code",
   "execution_count": null,
   "metadata": {},
   "outputs": [],
   "source": []
  }
 ],
 "metadata": {
  "kernelspec": {
   "display_name": "Python 3",
   "language": "python",
   "name": "python3"
  },
  "language_info": {
   "codemirror_mode": {
    "name": "ipython",
    "version": 3
   },
   "file_extension": ".py",
   "mimetype": "text/x-python",
   "name": "python",
   "nbconvert_exporter": "python",
   "pygments_lexer": "ipython3",
   "version": "3.6.5"
  }
 },
 "nbformat": 4,
 "nbformat_minor": 2
}

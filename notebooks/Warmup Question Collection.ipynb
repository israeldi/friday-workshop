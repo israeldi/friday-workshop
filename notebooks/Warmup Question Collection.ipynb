{
 "cells": [
  {
   "cell_type": "markdown",
   "metadata": {},
   "source": [
    "## Warmup Questions:"
   ]
  },
  {
   "cell_type": "markdown",
   "metadata": {},
   "source": [
    "Source:\n",
    "    \n",
    "- A Collection of Quant Riddles With Answers [http://puzzles.nigelcoldwell.co.uk/]\n",
    "- Brainsteller [https://brainstellar.com/]\n",
    "- Glassdoor: keyword - quant interview questions\n",
    "- A practical guide to quantitative finance interviews\n",
    "\n",
    "If you really can't figure out the solution after hard thinking, try google the answer..Have fun! - Patrick"
   ]
  },
  {
   "cell_type": "markdown",
   "metadata": {},
   "source": [
    "## 1. Finance \n",
    "\n",
    "1. From the term structure of interest rate, you can see that the five-year spot rate is 10% per annum and the 10-year spot rate is 15% per annum. What is the forward rate from year 5 to year 10? "
   ]
  },
  {
   "cell_type": "markdown",
   "metadata": {},
   "source": [
    "2. Define 'duration' and 'convexity'. Describe their properties and uses."
   ]
  },
  {
   "cell_type": "markdown",
   "metadata": {},
   "source": [
    "3. With 3 put options trading in the market with strike prices 90/100/110, and their trading prices 10/20/30, how can you profit from it?"
   ]
  },
  {
   "cell_type": "markdown",
   "metadata": {},
   "source": [
    "## 2. Math and Probability"
   ]
  },
  {
   "cell_type": "markdown",
   "metadata": {},
   "source": [
    "1. Explain the Central Limit Theorem to me"
   ]
  },
  {
   "cell_type": "markdown",
   "metadata": {},
   "source": [
    "2. X, Y iid N(0,1), p(X|X+Y=1)"
   ]
  },
  {
   "cell_type": "markdown",
   "metadata": {},
   "source": [
    "3. Quantitative Researcher at AKUNA CAPITAL was asked...  Dec 13, 2017    \n",
    "What are the eigenvalues of the nxn matrix with n in the diagonal and 1 elsewhere?"
   ]
  },
  {
   "cell_type": "markdown",
   "metadata": {},
   "source": [
    "## 3. Brainteaser"
   ]
  },
  {
   "cell_type": "markdown",
   "metadata": {},
   "source": [
    "###  Stick to Triangle: \n",
    "A stick is broken into 3 parts, by choosing 2 points randomly along its length. With what probability can it form a triangle?"
   ]
  },
  {
   "cell_type": "markdown",
   "metadata": {},
   "source": [
    "### Chocolate Bar: (2019/2/15)\n",
    "There is a 6x8 rectangular chocolate bar made up of small 1x1 bits. We want to break it into the 48 bits. We can break one piece of chocolate horizontally or vertically, but cannot break two pieces together! What is the minimum number of breaks required?"
   ]
  },
  {
   "cell_type": "markdown",
   "metadata": {},
   "source": [
    "### Square Infection: (2019/2/15)\n",
    "An infection spreads among the squares of an nXn checkerboard in the following manner. If a square has two or more infected neighbors, it becomes infected itself. (Each square has 4 neighbors only!). Prove that you cannot infect the whole board if you begin with fewer than n infected squares."
   ]
  },
  {
   "cell_type": "markdown",
   "metadata": {},
   "source": [
    "### 2 Equations & 3 Unknowns:\n",
    "\n",
    "I guessed 3 natural numbers - x,y,z. You can ask me 2 sums of these numbers with any integer coefficients - (a,b,c). That is, you give me a, b and c and I tell you the result of the expression a\\*x+b\\*y+c\\*z. Seeing the answer, you then give me the 2nd triplet of (a,b,c) and I will tell a\\*x+b\\*y+c\\*z. Give me the algorithm to find x,y and z."
   ]
  },
  {
   "cell_type": "markdown",
   "metadata": {},
   "source": [
    "### Get 24\n",
    "How can I get the answer 24 by only using the numbers 8, 8, 3 and 3.\n",
    "\n",
    "You can use add, subtract, multiply, divide, and parentheses."
   ]
  },
  {
   "cell_type": "markdown",
   "metadata": {},
   "source": [
    "### Red and Blue Marbles\n",
    "\n",
    "You have 50 red marbles and 50 blue marbles, other wise identical. You have 2 identical jars. A marble will be selected at random, from a jar selected at random. How would you apportion the marbles so as to maximise the chances of a red marble being selected? Can you prove it?"
   ]
  },
  {
   "cell_type": "markdown",
   "metadata": {},
   "source": [
    "### Consecutive Heads:\n",
    "What is the expected number of coin tosses required to get 3 consecutive heads?"
   ]
  },
  {
   "cell_type": "markdown",
   "metadata": {},
   "source": [
    "### To Begin or Not to begin? (2019/2/8)\n",
    "A & B are alternately picking balls from a bag without replacement. The bag has k black balls and 1 red ball. Winner is the one who picks the red ball. Who is more likely to win, the on who starts first, or second?"
   ]
  },
  {
   "cell_type": "markdown",
   "metadata": {},
   "source": [
    "### Distinct Number Draws\n",
    "Given the set of numbers from 1 to n: { 1, 2, 3 .. n } We draw n numbers randomly from this set with replacement. What is the expected number of distinct values that we would draw? "
   ]
  },
  {
   "cell_type": "markdown",
   "metadata": {},
   "source": [
    "### Sum To One\n",
    "On pressing a button, a random number is generated uniformly between 0 and 1. You keep on generating these numbers until their sum exceeds 1. What is the probability that you need to press the button more than n times? What is the expected number of times you need to press the button?"
   ]
  },
  {
   "cell_type": "markdown",
   "metadata": {},
   "source": [
    "### Consecutive sums\n",
    "An optimist and a pessimist are examining a sequence of real numbers. The optimist remarks, ‘Oh jolly! The sum of any eight consecutive terms is positive!’ But the pessimist interjects, ‘Not so fast, the sum of any five consecutive terms is negative.’ Can they both be right? Atmost how large can this sequence be?"
   ]
  },
  {
   "cell_type": "markdown",
   "metadata": {},
   "source": [
    "### Two hourglass\n",
    "How to measure 9 minutes using only a 4 minute and 7 minute hourglass"
   ]
  },
  {
   "cell_type": "markdown",
   "metadata": {},
   "source": [
    "### Max Min Correlation\n",
    "If X, Y and Z are three random variables such that X and Y have a correlation of 0.9, and Y and Z have correlation of 0.8, what are the minimum and maximum correlation that X and Z can have?"
   ]
  },
  {
   "cell_type": "markdown",
   "metadata": {},
   "source": [
    "### Search in a Grid:    \n",
    "You have a square grid of numbers. The numbers in each row increase from left to right. The numbers in each column increase from top to bottom. How do you find a given number from the grid?\n",
    "    "
   ]
  }
 ],
 "metadata": {
  "kernelspec": {
   "display_name": "Python 3",
   "language": "python",
   "name": "python3"
  },
  "language_info": {
   "codemirror_mode": {
    "name": "ipython",
    "version": 3
   },
   "file_extension": ".py",
   "mimetype": "text/x-python",
   "name": "python",
   "nbconvert_exporter": "python",
   "pygments_lexer": "ipython3",
   "version": "3.6.6"
  }
 },
 "nbformat": 4,
 "nbformat_minor": 2
}
